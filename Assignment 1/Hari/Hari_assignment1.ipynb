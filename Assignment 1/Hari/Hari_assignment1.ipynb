{
  "nbformat": 4,
  "nbformat_minor": 0,
  "metadata": {
    "colab": {
      "name": "Hari_assignment1.ipynb",
      "provenance": [],
      "collapsed_sections": []
    },
    "kernelspec": {
      "display_name": "Python 3",
      "name": "python3"
    },
    "language_info": {
      "name": "python"
    }
  },
  "cells": [
    {
      "cell_type": "code",
      "metadata": {
        "colab": {
          "base_uri": "https://localhost:8080/"
        },
        "id": "uybWg6or9O3y",
        "outputId": "a0a2b951-11c0-4840-d708-029deef07c5a"
      },
      "source": [
        "%cd /content/drive/MyDrive/NLP course/Assignment-1"
      ],
      "execution_count": 1,
      "outputs": [
        {
          "output_type": "stream",
          "name": "stdout",
          "text": [
            "/content/drive/MyDrive/NLP course/Assignment-1\n"
          ]
        }
      ]
    },
    {
      "cell_type": "code",
      "metadata": {
        "id": "NFWFXIu59a7S"
      },
      "source": [
        "import collections\n",
        "from collections import Counter"
      ],
      "execution_count": 2,
      "outputs": []
    },
    {
      "cell_type": "code",
      "metadata": {
        "id": "plro_O_89nBL"
      },
      "source": [
        "import spacy\n",
        "from collections import Counter, defaultdict\n",
        "from matplotlib import pyplot as plt\n",
        "import torch"
      ],
      "execution_count": 3,
      "outputs": []
    },
    {
      "cell_type": "code",
      "metadata": {
        "colab": {
          "base_uri": "https://localhost:8080/"
        },
        "id": "6vcu4JDwAMfD",
        "outputId": "28512bee-5f1c-44ed-9c1d-10895a3c2e8a"
      },
      "source": [
        "%cd /content/drive/MyDrive/NLP course/Assignment-1/a1_data\n",
        "file_names = ['books.txt','europarl.txt','wikipedia.txt']\n",
        "encodings = ['ISO-8859-1','utf-8','utf-8']\n",
        "base_dir = '/content/drive/MyDrive/NLP course/Assignment-1/a1_data/' "
      ],
      "execution_count": 4,
      "outputs": [
        {
          "output_type": "stream",
          "name": "stdout",
          "text": [
            "/content/drive/MyDrive/NLP course/Assignment-1/a1_data\n"
          ]
        }
      ]
    },
    {
      "cell_type": "code",
      "metadata": {
        "colab": {
          "base_uri": "https://localhost:8080/"
        },
        "id": "pTHADAL0AU_J",
        "outputId": "ca04ff59-3a1e-48ba-d063-ff0423d13c1e"
      },
      "source": [
        "print('The books that we going to use in this data file are',file_names)"
      ],
      "execution_count": 5,
      "outputs": [
        {
          "output_type": "stream",
          "name": "stdout",
          "text": [
            "The books that we going to use in this data file are ['books.txt', 'europarl.txt', 'wikipedia.txt']\n"
          ]
        }
      ]
    },
    {
      "cell_type": "markdown",
      "metadata": {
        "id": "Hcg5Y6mmn68B"
      },
      "source": [
        "**1) Computing word frequencies**\n",
        "\n",
        "To find the most common 10 words that are frequently occuring in the books. This can be done by using Counter and defaultdict, both in the standard package collections.  "
      ]
    },
    {
      "cell_type": "code",
      "metadata": {
        "colab": {
          "base_uri": "https://localhost:8080/"
        },
        "id": "LSsJdZMIAXMK",
        "outputId": "378a46da-3761-4333-f1e9-d45f042f17f9"
      },
      "source": [
        "for i in range(len(file_names)):\n",
        "    freqs = Counter()\n",
        "    file_name = file_names[i]\n",
        "    encoding = encodings[i]\n",
        "    with open(base_dir+file_name, encoding=encoding) as f:\n",
        "        for line in f:\n",
        "            tokens = line.lower().split()\n",
        "            for token in tokens:\n",
        "                freqs[token] += 1\n",
        "    print('--------------' + file_name + '-------------')\n",
        "    for word, freq in freqs.most_common(10):\n",
        "        print(word + '\\t' + str(freq))"
      ],
      "execution_count": 6,
      "outputs": [
        {
          "output_type": "stream",
          "name": "stdout",
          "text": [
            "--------------books.txt-------------\n",
            "the\t2425678\n",
            ",\t2064433\n",
            ".\t1958494\n",
            "and\t1367843\n",
            "of\t1321821\n",
            "to\t1159024\n",
            "a\t1103939\n",
            "is\t792900\n",
            "in\t739009\n",
            "i\t704436\n",
            "--------------europarl.txt-------------\n",
            "the\t3003965\n",
            ",\t2115604\n",
            ".\t1536632\n",
            "of\t1422333\n",
            "to\t1341441\n",
            "and\t1158234\n",
            "in\t945160\n",
            "that\t732156\n",
            "a\t674231\n",
            "is\t671969\n",
            "--------------wikipedia.txt-------------\n",
            "the\t3158463\n",
            ",\t2566261\n",
            ".\t1956600\n",
            "of\t1534698\n",
            "and\t1260516\n",
            "in\t1205759\n",
            "a\t958283\n",
            "to\t926287\n",
            "-\t548244\n",
            "is\t522101\n"
          ]
        }
      ]
    },
    {
      "cell_type": "markdown",
      "metadata": {
        "id": "G_azo8oRokzp"
      },
      "source": [
        "**Result**- From the above result. It is obvious that the words like 'The','comma(,)','dot(.)','and','to' are the most commom words that are occuring mostly in the all 3 books as the top 5 words."
      ]
    },
    {
      "cell_type": "code",
      "metadata": {
        "colab": {
          "base_uri": "https://localhost:8080/",
          "height": 1000
        },
        "id": "aOxb3vqkBQXs",
        "outputId": "41f0cc77-9f67-457b-9313-3be7056befc1"
      },
      "source": [
        "print('Most common words following \"red\"')\n",
        "for i in range(len(file_names)):\n",
        "    file_name = file_names[i]\n",
        "    encoding = encodings[i]\n",
        "    freqs = defaultdict(Counter)\n",
        "    with open(base_dir+file_name, encoding=encoding) as f:\n",
        "        for line in f:\n",
        "            tokens = line.lower().split()\n",
        "            for t1, t2 in zip(tokens, tokens[1:]):\n",
        "                freqs[t1][t2] += 1\n",
        "    word = freqs['red'].most_common(1)[0][0]\n",
        "    freq = freqs['red'].most_common(1)[0][1]\n",
        "    print(file_name + ':\\t' + word + '\\t' + str(freq))\n",
        "\n",
        "    import numpy as np\n",
        "    x=(freqs['red'].most_common(50))\n",
        "    \n",
        "    ppx, ppy = zip(*x)\n",
        "    plt.figure(figsize=(25,15))\n",
        "\n",
        "    plt.bar(ppx,ppy, align='center')\n",
        "    plt.xticks(rotation=90)\n",
        "    print(ppx)"
      ],
      "execution_count": null,
      "outputs": [
        {
          "output_type": "stream",
          "name": "stdout",
          "text": [
            "Most common words following \"red\"\n",
            "books.txt:\tsox\t198\n",
            "('sox', 'herrings', ',', 'army', 'and', 'riding', 'wine', 'october', 'cross', '\"', 'lily', 'hat', 'book', '.', 'hair', 'herring', 'light', 'tape', 'dragon', 'meat', 'harvest', 'hen', 'flags', 'china', 'is', 'badge', 'flag', 'devil', 'sea', 'scare', 'in', 'line', 'ink', 'queen', 'squads', 'states', 'planet', 'onion', 'pony', 'haired', 'pepper', 'pine', 'hats', 'mars', 'or', 'baron', 'barn', 'with', 'star', 'ribbon')\n",
            "europarl.txt:\ttape\t856\n",
            "('tape', 'cross', 'card', 'lines', 'and', 'army', 'light', 'line', ',', '.', 'sludge', 'wine', 'crescent', 'meat', 'carpet', 'flag', 'lights', 'or', 'mud', 'herring', 'mosque', 'list', 'thread', 'book', 'traffic', 'herrings', 'alert', 'sea', 'brigades', 'coral', 'fruit', 'rag', 'squirrel', 'diesel', \"''\", 'flags', 'letter', 'cards', 'tuna', 'fruits', 'signal', 'to', 't-shirts', 'in', 'area', 'plastic', 'ensign', 'plus', 'but', 'grapes')\n",
            "wikipedia.txt:\t,\t532\n",
            "(',', 'sox', 'and', '-', 'army', 'cross', '.', 'wings', 'sea', 'river', \"''\", 'or', 'line', 'hot', 'deer', 'hat', 'light', 'bull', 'blood', ')', 'dwarf', 'star', 'brick', 'flag', 'list', 'hair', 'wine', 'sandstone', 'in', 'with', 'dragon', '(', 'is', 'alert', 'to', 'card', 'bank', 'on', 'lion', 'eyes', 'stockings', 'rose', 'raiders', 'crescent', 'color', 'carpet', 'book', 'riding', 'giant', 'house')\n"
          ]
        },
        {
          "output_type": "display_data",
          "data": {
            "image/png": "[encoded data removed]",
            "text/plain": [
              "<Figure size 1800x1080 with 1 Axes>"
            ]
          },
          "metadata": {
            "needs_background": "light"
          }
        },
        {
          "output_type": "display_data",
          "data": {
            "image/png": "[encoded data removed]",
            "text/plain": [
              "<Figure size 1800x1080 with 1 Axes>"
            ]
          },
          "metadata": {
            "needs_background": "light"
          }
        },
        {
          "output_type": "display_data",
          "data": {
            "image/png": "[encoded data removed]",
            "text/plain": [
              "<Figure size 1800x1080 with 1 Axes>"
            ]
          },
          "metadata": {
            "needs_background": "light"
          }
        }
      ]
    },
    {
      "cell_type": "markdown",
      "metadata": {
        "id": "aRdDcTKmvKQg"
      },
      "source": [
        "From the above bar plot, we have ploted the words which follow up the word **\"Red\"**. We can clearly see that some words like Sox, comma(,), the , army,cross, etc are occured moslty following the word **red** in all the 3 documents. "
      ]
    },
    {
      "cell_type": "code",
      "metadata": {
        "colab": {
          "base_uri": "https://localhost:8080/",
          "height": 664
        },
        "id": "TuETxspD030R",
        "outputId": "9ffeb46b-8ce8-408b-f27a-0b845a842871"
      },
      "source": [
        "import numpy as np\n",
        "x=(freqs['red'].most_common(10))\n",
        "print(x)\n",
        "ppx, ppy = zip(*x)\n",
        "plt.figure(figsize=(15,15))\n",
        "xx=list(range(len(x)))\n",
        "\n",
        "plt.loglog(list(xx),ppy)\n",
        "\n",
        "#plt.xticks(xx,list(ppx))\n",
        "plt.xticks(rotation=90)\n",
        "plt.xlabel((ppx), fontsize=13)\n",
        "plt.show()"
      ],
      "execution_count": null,
      "outputs": [
        {
          "output_type": "stream",
          "name": "stdout",
          "text": [
            "[(',', 532), ('sox', 495), ('and', 467), ('-', 454), ('army', 404), ('cross', 278), ('.', 213), ('wings', 208), ('sea', 177), ('river', 166)]\n"
          ]
        },
        {
          "output_type": "display_data",
          "data": {
            "image/png": "[encoded data removed]",
            "text/plain": [
              "<Figure size 1080x1080 with 1 Axes>"
            ]
          },
          "metadata": {
            "needs_background": "light"
          }
        }
      ]
    },
    {
      "cell_type": "markdown",
      "metadata": {
        "id": "ktf-oXMWwJej"
      },
      "source": [
        " \n",
        "**2) Comparing corpous**"
      ]
    },
    {
      "cell_type": "code",
      "metadata": {
        "id": "GHw8w3Lt7p5Z",
        "colab": {
          "base_uri": "https://localhost:8080/"
        },
        "outputId": "6bd89a1a-3ed3-4ea7-d5bb-45b749836048"
      },
      "source": [
        "# 'books.txt'\n",
        "freqs1 = Counter()\n",
        "with open(base_dir+file_names[0], encoding=encodings[0]) as f:\n",
        "    for line in f:\n",
        "    \ttokens = line.lower().split()\n",
        "    \tfor token in tokens:\n",
        "    \t    freqs1[token] += 1\n",
        "# 'europarl.txt'\n",
        "freqs2 = Counter()\n",
        "with open(base_dir+file_names[1], encoding=encodings[1]) as f2:\n",
        "    for line2 in f2:\n",
        "    \ttokens2 = line2.lower().split()\n",
        "    \tfor token2 in tokens2:\n",
        "    \t    freqs2[token2] += 1\n",
        "\n",
        "word1=[]\n",
        "for word, freq1 in freqs1.most_common(100):\n",
        "  word1.append(word)\n",
        "\n",
        "word2=[]\n",
        "for word, freq2 in freqs2.most_common(100):\n",
        "  word2.append(word)\n",
        "\n",
        "w=set(word1)-set(word2)\n",
        "\n",
        "w1=set(word2)-set(word1)\n",
        "print('Words that are not present in the corpous europarl.txt when comparing with the corpous books.txt')\n",
        "print(w)\n",
        "print('---------------------------------------------------------------------------------------------------------')\n",
        "print('Words that are not present in the corpous books.txt when comparing with the corpous europarl.txt')\n",
        "print(w1)"
      ],
      "execution_count": 11,
      "outputs": [
        {
          "output_type": "stream",
          "name": "stdout",
          "text": [
            "Words that are not present in the corpous europarl.txt when comparing with the corpous books.txt\n",
            "{'book', 'how', 'good', 'life', 'me', 'even', 'had', 'them', 'books', 'story', 'many', 'she', 'most', 'first', '!', '\"', 'some', 'were', '-', 'much', 'than', 'read', 'great', 'into', 'his', 'does', 'he', 'her', \"n't\", 'well', 'your', \"'\", 'just', 'reading'}\n",
            "---------------------------------------------------------------------------------------------------------\n",
            "Words that are not present in the corpous books.txt when comparing with the corpous europarl.txt\n",
            "{'should', 'states', 'commission', 'therefore', 'our', 'now', 'union', 'policy', 'eu', 'those', 'report', '--', 'between', 'europe', 'however', 'us', 'new', 'council', 'must', 'rights', 'mr', 'european', 'member', 'need', 'important', 'countries', 'take', 'support', 'such', 'president', 'am', 'because', 'its', 'parliament'}\n"
          ]
        }
      ]
    },
    {
      "cell_type": "markdown",
      "metadata": {
        "id": "4-qi99w4FB4k"
      },
      "source": [
        "From the above example, we can see the first output gives the words that are not in the corpous europarl and present in the corpous book. we can clearly see that some of the words like story, life, good, etc. are present in the book corpous which we typically can't see in the europarl corpous because the europarl corpous moslty consist of the words from political side which we can clearly see from the second output which contains the words like commission, policy, union concil etc, which we can typically see in the book corpous.   "
      ]
    },
    {
      "cell_type": "markdown",
      "metadata": {
        "id": "zMUpsVuSzWuM"
      },
      "source": [
        "**Output need to be discussed**"
      ]
    },
    {
      "cell_type": "markdown",
      "metadata": {
        "id": "wRy2xypfzGWZ"
      },
      "source": [
        "**3) Preprocessing text for machine learning**"
      ]
    },
    {
      "cell_type": "code",
      "metadata": {
        "colab": {
          "base_uri": "https://localhost:8080/"
        },
        "id": "P7spHs0pCFko",
        "outputId": "c4f88051-bce2-4db4-e8d0-2fc2a96838a2"
      },
      "source": [
        "class Vocab:\n",
        "    def __init__(self, dataset, max_voc_size=1000, batch_size=1000):\n",
        "        ############# word-to-int mapping #############\n",
        "        self.dataset = dataset\n",
        "        self.max_voc_size = max_voc_size\n",
        "        freqs = Counter()\n",
        "        tokens = dataset.lower().split()\n",
        "        for token in tokens:\n",
        "            freqs[token] += 1\n",
        "        # freqs is dict(), i.e. freqs[word] = count\n",
        "        if len(freqs) > max_voc_size:\n",
        "            voc_size = max_voc_size\n",
        "        else:\n",
        "            voc_size = len(freqs)\n",
        "        freqs = freqs.most_common(voc_size)\n",
        "        # now freqs is tuple of (word, count)\n",
        "        mapping = {freqs[i][0]:i+1 for i in range(voc_size)}\n",
        "        # now freqs is dict of freqs[word]=r where r=rank based on frequency, r=(1,...)\n",
        "        self.mapping = mapping # should use self.mapping.get('key',-1) to try non-existent keys\n",
        "\n",
        "        \n",
        "        ############# batching #####################\n",
        "        split_dataset = dataset.split('\\n')\n",
        "        if len(split_dataset) > batch_size:\n",
        "            split_dataset = split_dataset[:batch_size]\n",
        "        else:\n",
        "            batch_size = len(split_dataset)\n",
        "\n",
        "        max_line_length = len(max(split_dataset, key=len))\n",
        "        batches = torch.ones(max_line_length, batch_size) * -1 # -1 is the padding\n",
        "        for line_idx in range(len(split_dataset)):\n",
        "            line = split_dataset[line_idx]\n",
        "            split_line = line.split()\n",
        "            for word_idx in range(len(split_line)):\n",
        "                batches[word_idx][line_idx] = mapping.get(split_line[word_idx], 0) # 0 is what words not in the mapping map to\n",
        "        self.batches = batches\n",
        "            \n",
        "        \n",
        "i = 0\n",
        "max_voc_size=1000\n",
        "batch_size=1000\n",
        "with open(base_dir+file_names[i], encoding=encodings[i]) as f:\n",
        "    dataset = f.read()\n",
        "    \n",
        "vc = Vocab(dataset, max_voc_size)\n",
        "print(vc.mapping)\n",
        "print(vc.batches)"
      ],
      "execution_count": null,
      "outputs": [
        {
          "output_type": "stream",
          "name": "stdout",
          "text": [
            "{'the': 1, ',': 2, '.': 3, 'and': 4, 'of': 5, 'to': 6, 'a': 7, 'is': 8, 'in': 9, 'i': 10, 'this': 11, 'it': 12, 'that': 13, 'book': 14, '\"': 15, 'for': 16, \"'s\": 17, 'as': 18, 'with': 19, 'you': 20, 'was': 21, 'on': 22, 'are': 23, 'but': 24, 'not': 25, 'his': 26, 'have': 27, 'he': 28, 'be': 29, 'one': 30, 'an': 31, 'read': 32, ')': 33, 'by': 34, '(': 35, 'from': 36, 'all': 37, 'about': 38, \"n't\": 39, 'or': 40, 'at': 41, 'who': 42, 'my': 43, 'has': 44, 'her': 45, 'what': 46, '-': 47, 'if': 48, 'more': 49, 'so': 50, 'they': 51, '!': 52, 'do': 53, 'there': 54, 'will': 55, 'how': 56, 'very': 57, 'like': 58, 'their': 59, 'would': 60, 'can': 61, 'some': 62, 'she': 63, 'we': 64, 'out': 65, 'which': 66, 'when': 67, 'me': 68, 'just': 69, \"'\": 70, 'great': 71, 'story': 72, 'many': 73, 'good': 74, 'time': 75, 'other': 76, 'life': 77, 'books': 78, 'into': 79, 'also': 80, 'had': 81, 'up': 82, 'your': 83, 'only': 84, 'most': 85, ':': 86, 'well': 87, 'than': 88, '?': 89, 'people': 90, 'first': 91, 'much': 92, 'no': 93, 'reading': 94, 'does': 95, 'were': 96, 'even': 97, 'them': 98, 'been': 99, 'these': 100, 'way': 101, 'because': 102, 'get': 103, 'really': 104, ';': 105, 'did': 106, 'could': 107, 'its': 108, 'work': 109, 'author': 110, 'new': 111, 'world': 112, 'any': 113, 'through': 114, 'our': 115, 'those': 116, 'after': 117, 'then': 118, 'love': 119, 'know': 120, 'us': 121, 'think': 122, 'make': 123, 'years': 124, 'find': 125, 'own': 126, 'him': 127, 'such': 128, 'best': 129, 'should': 130, 'written': 131, 'while': 132, 'found': 133, 'history': 134, 'over': 135, 'being': 136, 'too': 137, 'little': 138, 'two': 139, 'novel': 140, 'characters': 141, '/': 142, 'see': 143, 'never': 144, 'now': 145, 'am': 146, 'reader': 147, \"'ve\": 148, 'want': 149, 'where': 150, 'each': 151, 'every': 152, 'still': 153, 'recommend': 154, 'writing': 155, 'both': 156, 'man': 157, 'may': 158, 'better': 159, 'things': 160, 'must': 161, 'why': 162, 'anyone': 163, 'information': 164, 'interesting': 165, 'back': 166, 'before': 167, 'down': 168, 'makes': 169, 'made': 170, 'few': 171, 'say': 172, 'however': 173, 'another': 174, 'here': 175, 'end': 176, 'use': 177, 'go': 178, 'real': 179, 'stories': 180, \"'m\": 181, 'ever': 182, 'something': 183, 'same': 184, 'different': 185, 'though': 186, 'lot': 187, 'take': 188, 'need': 189, 'war': 190, 'series': 191, 'between': 192, 'thought': 193, 'part': 194, 'without': 195, 'family': 196, 'understand': 197, 'old': 198, 'highly': 199, 'easy': 200, 'long': 201, 'help': 202, 'excellent': 203, 'always': 204, 'times': 205, 'put': 206, 'american': 207, 'give': 208, 'right': 209, 'character': 210, 'look': 211, 'again': 212, 'yet': 213, 'point': 214, 'since': 215, 'children': 216, 'feel': 217, 'going': 218, 'come': 219, 'day': 220, 'fact': 221, 'pages': 222, 'others': 223, 'chapter': 224, 'off': 225, 'god': 226, 'used': 227, 'human': 228, 'true': 229, 'women': 230, 'enough': 231, 'last': 232, 'might': 233, \"'re\": 234, 'rather': 235, 'wonderful': 236, 'far': 237, 'important': 238, 'quite': 239, 'around': 240, 'seems': 241, 'often': 242, 'young': 243, 'looking': 244, 'place': 245, 'learn': 246, 'actually': 247, \"'ll\": 248, 'thing': 249, 'especially': 250, 'although': 251, 'having': 252, 'almost': 253, 'person': 254, 'mind': 255, 'ca': 256, 'gives': 257, 'page': 258, 'hard': 259, 'got': 260, 'sense': 261, 'ideas': 262, 'readers': 263, 'believe': 264, 'works': 265, 'style': 266, 'once': 267, 'everything': 268, 'course': 269, 'job': 270, 'bit': 271, 'several': 272, 'three': 273, 'done': 274, 'worth': 275, 'short': 276, 'business': 277, 'year': 278, 'experience': 279, 'keep': 280, 'school': 281, 'someone': 282, 'nothing': 283, 'text': 284, 'away': 285, 'authors': 286, 'buy': 287, 'said': 288, 'lives': 289, 'men': 290, 'today': 291, 'become': 292, 'words': 293, 'interested': 294, 'home': 295, 'subject': 296, 'takes': 297, 'enjoyed': 298, 'plot': 299, 'next': 300, 'enjoy': 301, 'personal': 302, 'during': 303, 'money': 304, 'along': 305, 'able': 306, 'simply': 307, 'second': 308, 'woman': 309, 'bad': 310, '&': 311, 'himself': 312, 'everyone': 313, 'fun': 314, 'whole': 315, 'understanding': 316, 'loved': 317, 'mr.': 318, 'death': 319, 'example': 320, 'probably': 321, 'case': 322, 'less': 323, 'given': 324, 'clear': 325, 'full': 326, 'together': 327, 'political': 328, 'least': 329, 'writer': 330, 'sure': 331, 'friends': 332, 'anything': 333, 'myself': 334, 'making': 335, 'power': 336, 'simple': 337, 'big': 338, 'america': 339, 'against': 340, 'start': 341, 'modern': 342, 'comes': 343, 'until': 344, 'child': 345, 'truly': 346, 'instead': 347, 'art': 348, 'past': 349, 'perhaps': 350, 'high': 351, 'guide': 352, 'set': 353, 'idea': 354, 'view': 355, 'trying': 356, 'review': 357, 'already': 358, 'left': 359, 'early': 360, 'live': 361, 'shows': 362, 'small': 363, 'write': 364, 'goes': 365, 'language': 366, 'mother': 367, 'science': 368, \"'d\": 369, 'using': 370, 'father': 371, 'kind': 372, 'society': 373, 'john': 374, 'change': 375, 'main': 376, 'favorite': 377, 'seem': 378, 'chapters': 379, 'century': 380, 'later': 381, 'knowledge': 382, 'historical': 383, 'provides': 384, 'getting': 385, 'novels': 386, 'social': 387, 'try': 388, 'let': 389, 'problems': 390, 'tell': 391, 'thinking': 392, 'bought': 393, 'issues': 394, 'research': 395, 'within': 396, 'useful': 397, 'felt': 398, 'living': 399, 'order': 400, 'came': 401, 'problem': 402, 'age': 403, 'events': 404, 'ago': 405, 'show': 406, 'recommended': 407, 'culture': 408, 'itself': 409, 'ways': 410, 'friend': 411, 'reason': 412, 'doing': 413, 'beautiful': 414, 'heart': 415, 'edition': 416, 'based': 417, '2': 418, 'hope': 419, 'difficult': 420, 'cover': 421, 'gets': 422, 'certainly': 423, 'sometimes': 424, 'seen': 425, 'dr.': 426, 'interest': 427, 'nature': 428, 'helpful': 429, 'future': 430, 'play': 431, 'class': 432, 'various': 433, 'study': 434, 'recipes': 435, 'questions': 436, 'theory': 437, 'lost': 438, 'students': 439, 'collection': 440, 'fiction': 441, 'matter': 442, 'examples': 443, 'finally': 444, 'general': 445, 'black': 446, 'throughout': 447, 'days': 448, 'including': 449, 'themselves': 450, 'english': 451, 'etc.': 452, 'detail': 453, 'under': 454, 'else': 455, 'follow': 456, 'took': 457, 'major': 458, 'says': 459, 'country': 460, 'started': 461, 'truth': 462, 'wrong': 463, 'tells': 464, 'yourself': 465, 'beginning': 466, 'reference': 467, 'definitely': 468, 'movie': 469, 'points': 470, 'either': 471, 'perfect': 472, 'food': 473, 'cannot': 474, 'reviews': 475, 'whether': 476, 'word': 477, 'son': 478, 'process': 479, 'amazing': 480, 'house': 481, 'details': 482, 'pretty': 483, 'king': 484, 'side': 485, 'system': 486, 'title': 487, 'level': 488, 'wants': 489, 'told': 490, 'mystery': 491, 'liked': 492, 'christian': 493, 'wanted': 494, 'fan': 495, 'state': 496, 'kids': 497, 'fascinating': 498, 'stars': 499, 'states': 500, 'section': 501, 'relationship': 502, 'name': 503, 'clearly': 504, '`': 505, 'white': 506, 'gave': 507, 'action': 508, 'material': 509, 'upon': 510, 'went': 511, 'basic': 512, 'deal': 513, 'parents': 514, 'wrote': 515, 'working': 516, 'number': 517, 'wife': 518, 'care': 519, 'approach': 520, 'overall': 521, 'four': 522, 'light': 523, 'classic': 524, 'original': 525, 'needs': 526, 'known': 527, 'development': 528, 'published': 529, 'among': 530, 'literature': 531, 'funny': 532, 'nice': 533, 'writes': 534, 'called': 535, 'learning': 536, 'church': 537, 'pictures': 538, 'tale': 539, 'complete': 540, 'introduction': 541, 'question': 542, 'present': 543, 'wish': 544, 'library': 545, 'daughter': 546, 'form': 547, '3': 548, 'hand': 549, 'advice': 550, 'maybe': 551, 'perspective': 552, 'city': 553, 'entire': 554, 'girl': 555, 'line': 556, 'common': 557, 'volume': 558, 'behind': 559, 'insight': 560, 'learned': 561, 'means': 562, 'body': 563, 'taken': 564, '5': 565, 'version': 566, 'strong': 567, 'certain': 568, 'rest': 569, 'beyond': 570, 'knew': 571, 'bible': 572, 'possible': 573, 'government': 574, 'public': 575, 'copy': 576, 'completely': 577, 'covers': 578, 'wo': 579, 'particularly': 580, 'philosophy': 581, '1': 582, 'ending': 583, 'attention': 584, 'group': 585, 'easily': 586, 'particular': 587, 'parts': 588, 'taking': 589, 'knows': 590, 'extremely': 591, 'middle': 592, 'analysis': 593, 'turn': 594, 'five': 595, 'practical': 596, 'husband': 597, 'serious': 598, 'night': 599, 'game': 600, 'half': 601, 'college': 602, 'facts': 603, 'writers': 604, 'across': 605, 'value': 606, 'account': 607, 'large': 608, 'needed': 609, 'uses': 610, 'free': 611, 'student': 612, 'boy': 613, 'entertaining': 614, 'ones': 615, 'reality': 616, 'offers': 617, 'yes': 618, 'whose': 619, 'type': 620, 'complex': 621, 'detailed': 622, 'picture': 623, 'open': 624, 'period': 625, 'list': 626, 'humor': 627, 'helped': 628, '4': 629, 'becomes': 630, 'further': 631, 'terms': 632, 'stuff': 633, 'opinion': 634, 'religious': 635, 'despite': 636, 'became': 637, 'field': 638, 'alone': 639, 'current': 640, 'poor': 641, 'remember': 642, 'feeling': 643, 'jesus': 644, 'agree': 645, 'journey': 646, 'religion': 647, 'unique': 648, 'music': 649, 'powerful': 650, 'focus': 651, 'explains': 652, 'quality': 653, 'involved': 654, 'provide': 655, 'happy': 656, 'face': 657, 'third': 658, 'faith': 659, 'couple': 660, 'coming': 661, 'close': 662, 'soon': 663, 'rich': 664, 'deep': 665, 'experiences': 666, 'finds': 667, 'happened': 668, 'call': 669, 'fine': 670, 'giving': 671, 'presented': 672, 'james': 673, 'concepts': 674, 'mean': 675, 'military': 676, 'bring': 677, 'dead': 678, 'success': 679, 'single': 680, 'top': 681, 'plan': 682, 'techniques': 683, 'create': 684, 'background': 685, 'role': 686, 'gift': 687, 'indeed': 688, 'absolutely': 689, 'finished': 690, 'disappointed': 691, 'enjoyable': 692, 'spiritual': 693, 'herself': 694, 'describes': 695, 'addition': 696, 'dark': 697, 'previous': 698, 'informative': 699, 'head': 700, 'forward': 701, 'ability': 702, 'stop': 703, 'design': 704, 'market': 705, 'exactly': 706, 'eyes': 707, 'sort': 708, 'company': 709, 'seemed': 710, 'individual': 711, 'heard': 712, 'lots': 713, 'narrative': 714, 'film': 715, 'available': 716, 'saw': 717, 'late': 718, 'health': 719, 'final': 720, 'topic': 721, 'run': 722, 'control': 723, 'illustrations': 724, 'earth': 725, 'includes': 726, 'quickly': 727, 'lack': 728, 'pick': 729, 'places': 730, 'politics': 731, 'result': 732, 'literary': 733, 'star': 734, 'leave': 735, 'evidence': 736, 'somewhat': 737, 'western': 738, 'aspects': 739, 'happen': 740, 'quick': 741, 'price': 742, 'begins': 743, 'expect': 744, 'practice': 745, 'evil': 746, 'career': 747, 'meaning': 748, 'following': 749, 'due': 750, 'topics': 751, 'depth': 752, 'usually': 753, 'similar': 754, 'consider': 755, 'add': 756, 'contains': 757, 'law': 758, 'french': 759, 'brought': 760, 'sex': 761, 'ms.': 762, 'scientific': 763, 'special': 764, 'murder': 765, 'kept': 766, 'wonder': 767, 'education': 768, 'natural': 769, 'town': 770, 'david': 771, 'changed': 772, 'thus': 773, 'explain': 774, 'step': 775, 'guy': 776, 'teacher': 777, 'brings': 778, 'boring': 779, '...': 780, 'loves': 781, 'descriptions': 782, 'created': 783, 'key': 784, 'greatest': 785, 'successful': 786, 'discussion': 787, 'york': 788, 'support': 789, 'economic': 790, 'prose': 791, 'wait': 792, 'dog': 793, 'saying': 794, 'popular': 795, 'tried': 796, 'fall': 797, 'thoughts': 798, 'talk': 799, 'self': 800, 'lead': 801, 'familiar': 802, 'above': 803, 'description': 804, 'brilliant': 805, 'filled': 806, 'presents': 807, 'piece': 808, 'helps': 809, 'included': 810, 'message': 811, 'begin': 812, 'master': 813, 'fast': 814, 'community': 815, 'recently': 816, 'inside': 817, 'realize': 818, 'lived': 819, 'adventure': 820, 'professional': 821, 'notes': 822, 'source': 823, 'local': 824, 'situation': 825, 'turns': 826, 'nor': 827, 'effort': 828, 'de': 829, 'studies': 830, 'starts': 831, 'famous': 832, 'starting': 833, 'relationships': 834, 'unfortunately': 835, 'united': 836, 'marriage': 837, 'space': 838, 'color': 839, 'nearly': 840, 'fans': 841, 'mostly': 842, 'reviewers': 843, 'telling': 844, 'concept': 845, 'recent': 846, 'appreciate': 847, 'specific': 848, 'insights': 849, 'area': 850, 'include': 851, 'longer': 852, 'changes': 853, 'share': 854, 'figure': 855, 'earlier': 856, 'described': 857, 'british': 858, 'valuable': 859, 'moving': 860, 'training': 861, 'answer': 862, 'happens': 863, 'spent': 864, 'americans': 865, 'sound': 866, 'cultural': 867, 'issue': 868, 'turned': 869, 'towards': 870, 'named': 871, 'content': 872, 'voice': 873, 'note': 874, '10': 875, 'romance': 876, 'doubt': 877, 'soul': 878, 'context': 879, 'west': 880, 'reads': 881, 'fear': 882, 'management': 883, 'results': 884, 'whom': 885, 'thank': 886, 'huge': 887, 'battle': 888, 'fantastic': 889, 'teach': 890, 'brother': 891, 'photos': 892, 'necessary': 893, 'south': 894, 'program': 895, 'months': 896, 'continue': 897, 'likely': 898, 'actual': 899, 'ask': 900, 'reviewer': 901, 'teaching': 902, 'finding': 903, 'hear': 904, 'save': 905, 'ancient': 906, 'sad': 907, 'professor': 908, 'manner': 909, 'paul': 910, 'amount': 911, 'force': 912, 'attempt': 913, 'obvious': 914, 'europe': 915, 'essays': 916, 'talking': 917, 'decided': 918, 'building': 919, 'picked': 920, 'totally': 921, 'spirit': 922, 'hours': 923, 'worked': 924, 'resource': 925, 'positive': 926, 'land': 927, 'reasons': 928, 'move': 929, 'finish': 930, 'creative': 931, 'leaves': 932, 'gone': 933, 'moral': 934, 'robert': 935, 'suggest': 936, 'ends': 937, 'chance': 938, 'baby': 939, 'began': 940, 'compelling': 941, 'emotional': 942, 'george': 943, 'please': 944, 'exciting': 945, 'views': 946, 'behavior': 947, 'hero': 948, 'imagine': 949, 'act': 950, 'magic': 951, 'comprehensive': 952, 'biography': 953, 'mention': 954, 'looks': 955, 'stay': 956, 'eventually': 957, 'choice': 958, 'secret': 959, 'toward': 960, 'mentioned': 961, 'room': 962, 'purchased': 963, 'essential': 964, 'considered': 965, 'tips': 966, 'outside': 967, 'beauty': 968, 'answers': 969, 'obviously': 970, 'developed': 971, 'president': 972, 'amazon': 973, 'offer': 974, 'era': 975, 'feelings': 976, 'required': 977, 'scene': 978, 'girls': 979, 'wisdom': 980, 'older': 981, 'former': 982, 'party': 983, 'cause': 984, 'michael': 985, 'sections': 986, 'scenes': 987, 'christ': 988, 'hold': 989, 'respect': 990, 'return': 991, 'animals': 992, 'feels': 993, 'translation': 994, 'fully': 995, 'poetry': 996, 'none': 997, 'areas': 998, 'buying': 999, 'hands': 1000}\n",
            "tensor([[ 12.,  11.,  10.,  ...,   9.,  10.,   0.],\n",
            "        [457.,   0., 119.,  ...,   0.,  21.,   4.],\n",
            "        [ 68.,   0.,  11.,  ...,   0.,   0., 894.],\n",
            "        ...,\n",
            "        [ -1.,  -1.,  -1.,  ...,  -1.,  -1.,  -1.],\n",
            "        [ -1.,  -1.,  -1.,  ...,  -1.,  -1.,  -1.],\n",
            "        [ -1.,  -1.,  -1.,  ...,  -1.,  -1.,  -1.]])\n"
          ]
        }
      ]
    },
    {
      "cell_type": "markdown",
      "metadata": {
        "id": "bITEpN8qAR-3"
      },
      "source": [
        "From the preprocessed text output, in the step 1, we have encoded a integers to the words in text file and we have used a batch size of 1000 so that the 1000 words has been encoded in the word file. "
      ]
    },
    {
      "cell_type": "markdown",
      "metadata": {
        "id": "JqRyE7M9zNAv"
      },
      "source": [
        "**4) Trying out the NLP toolkit**"
      ]
    },
    {
      "cell_type": "code",
      "metadata": {
        "id": "-OhYTc4WhhrV"
      },
      "source": [
        "import spacy\n",
        "nlp = spacy.load('en_core_web_sm')"
      ],
      "execution_count": null,
      "outputs": []
    },
    {
      "cell_type": "code",
      "metadata": {
        "id": "Xn7p1c2ijAyc",
        "colab": {
          "base_uri": "https://localhost:8080/"
        },
        "outputId": "885be31d-8153-4906-f975-9f7eb2bb9b7e"
      },
      "source": [
        "example = 'Apple bought two companies this year and no one knew, Mark Gurman at 9to5Mac reports.'\n",
        "result = nlp(example)\n",
        "(result)"
      ],
      "execution_count": null,
      "outputs": [
        {
          "output_type": "execute_result",
          "data": {
            "text/plain": [
              "Apple bought two companies this year and no one knew, Mark Gurman at 9to5Mac reports."
            ]
          },
          "metadata": {},
          "execution_count": 8
        }
      ]
    },
    {
      "cell_type": "code",
      "metadata": {
        "id": "OwWiY4EYsH_9",
        "colab": {
          "base_uri": "https://localhost:8080/",
          "height": 52
        },
        "outputId": "142ee56f-2c11-4033-d941-71befb67301c"
      },
      "source": [
        "# Part-of-speech tagging: labeling each token with a part-of-speech tag (noun, verb etc.)\n",
        "from spacy import displacy\n",
        "displacy.render(result, style='ent', jupyter=True)"
      ],
      "execution_count": null,
      "outputs": [
        {
          "output_type": "display_data",
          "data": {
            "text/html": [
              "<span class=\"tex2jax_ignore\"><div class=\"entities\" style=\"line-height: 2.5; direction: ltr\">\n",
              "<mark class=\"entity\" style=\"background: #7aecec; padding: 0.45em 0.6em; margin: 0 0.25em; line-height: 1; border-radius: 0.35em;\">\n",
              "    Apple\n",
              "    <span style=\"font-size: 0.8em; font-weight: bold; line-height: 1; border-radius: 0.35em; text-transform: uppercase; vertical-align: middle; margin-left: 0.5rem\">ORG</span>\n",
              "</mark>\n",
              " bought \n",
              "<mark class=\"entity\" style=\"background: #e4e7d2; padding: 0.45em 0.6em; margin: 0 0.25em; line-height: 1; border-radius: 0.35em;\">\n",
              "    two\n",
              "    <span style=\"font-size: 0.8em; font-weight: bold; line-height: 1; border-radius: 0.35em; text-transform: uppercase; vertical-align: middle; margin-left: 0.5rem\">CARDINAL</span>\n",
              "</mark>\n",
              " companies \n",
              "<mark class=\"entity\" style=\"background: #bfe1d9; padding: 0.45em 0.6em; margin: 0 0.25em; line-height: 1; border-radius: 0.35em;\">\n",
              "    this year\n",
              "    <span style=\"font-size: 0.8em; font-weight: bold; line-height: 1; border-radius: 0.35em; text-transform: uppercase; vertical-align: middle; margin-left: 0.5rem\">DATE</span>\n",
              "</mark>\n",
              " and no one knew, \n",
              "<mark class=\"entity\" style=\"background: #aa9cfc; padding: 0.45em 0.6em; margin: 0 0.25em; line-height: 1; border-radius: 0.35em;\">\n",
              "    Mark Gurman\n",
              "    <span style=\"font-size: 0.8em; font-weight: bold; line-height: 1; border-radius: 0.35em; text-transform: uppercase; vertical-align: middle; margin-left: 0.5rem\">PERSON</span>\n",
              "</mark>\n",
              " at \n",
              "<mark class=\"entity\" style=\"background: #e4e7d2; padding: 0.45em 0.6em; margin: 0 0.25em; line-height: 1; border-radius: 0.35em;\">\n",
              "    9to5Mac\n",
              "    <span style=\"font-size: 0.8em; font-weight: bold; line-height: 1; border-radius: 0.35em; text-transform: uppercase; vertical-align: middle; margin-left: 0.5rem\">CARDINAL</span>\n",
              "</mark>\n",
              " reports.</div></span>"
            ],
            "text/plain": [
              "<IPython.core.display.HTML object>"
            ]
          },
          "metadata": {}
        }
      ]
    },
    {
      "cell_type": "code",
      "metadata": {
        "id": "AnIHXaP3k7Ev",
        "colab": {
          "base_uri": "https://localhost:8080/",
          "height": 703
        },
        "outputId": "8c780e5e-f7c9-4af6-84db-578334c71539"
      },
      "source": [
        "# Dependency parsing: determining grammatical relations between the tokens in the sentence (subject, object etc.)\n",
        "from spacy import displacy\n",
        "displacy.render(result, style='dep', jupyter=True)"
      ],
      "execution_count": null,
      "outputs": [
        {
          "output_type": "display_data",
          "data": {
            "text/html": [
              "<span class=\"tex2jax_ignore\"><svg xmlns=\"http://www.w3.org/2000/svg\" xmlns:xlink=\"http://www.w3.org/1999/xlink\" xml:lang=\"en\" id=\"1daa7c51565f44e588504452b29926c9-0\" class=\"displacy\" width=\"2675\" height=\"662.0\" direction=\"ltr\" style=\"max-width: none; height: 662.0px; color: #000000; background: #ffffff; font-family: Arial; direction: ltr\">\n",
              "<text class=\"displacy-token\" fill=\"currentColor\" text-anchor=\"middle\" y=\"572.0\">\n",
              "    <tspan class=\"displacy-word\" fill=\"currentColor\" x=\"50\">Apple</tspan>\n",
              "    <tspan class=\"displacy-tag\" dy=\"2em\" fill=\"currentColor\" x=\"50\">PROPN</tspan>\n",
              "</text>\n",
              "\n",
              "<text class=\"displacy-token\" fill=\"currentColor\" text-anchor=\"middle\" y=\"572.0\">\n",
              "    <tspan class=\"displacy-word\" fill=\"currentColor\" x=\"225\">bought</tspan>\n",
              "    <tspan class=\"displacy-tag\" dy=\"2em\" fill=\"currentColor\" x=\"225\">VERB</tspan>\n",
              "</text>\n",
              "\n",
              "<text class=\"displacy-token\" fill=\"currentColor\" text-anchor=\"middle\" y=\"572.0\">\n",
              "    <tspan class=\"displacy-word\" fill=\"currentColor\" x=\"400\">two</tspan>\n",
              "    <tspan class=\"displacy-tag\" dy=\"2em\" fill=\"currentColor\" x=\"400\">NUM</tspan>\n",
              "</text>\n",
              "\n",
              "<text class=\"displacy-token\" fill=\"currentColor\" text-anchor=\"middle\" y=\"572.0\">\n",
              "    <tspan class=\"displacy-word\" fill=\"currentColor\" x=\"575\">companies</tspan>\n",
              "    <tspan class=\"displacy-tag\" dy=\"2em\" fill=\"currentColor\" x=\"575\">NOUN</tspan>\n",
              "</text>\n",
              "\n",
              "<text class=\"displacy-token\" fill=\"currentColor\" text-anchor=\"middle\" y=\"572.0\">\n",
              "    <tspan class=\"displacy-word\" fill=\"currentColor\" x=\"750\">this</tspan>\n",
              "    <tspan class=\"displacy-tag\" dy=\"2em\" fill=\"currentColor\" x=\"750\">DET</tspan>\n",
              "</text>\n",
              "\n",
              "<text class=\"displacy-token\" fill=\"currentColor\" text-anchor=\"middle\" y=\"572.0\">\n",
              "    <tspan class=\"displacy-word\" fill=\"currentColor\" x=\"925\">year</tspan>\n",
              "    <tspan class=\"displacy-tag\" dy=\"2em\" fill=\"currentColor\" x=\"925\">NOUN</tspan>\n",
              "</text>\n",
              "\n",
              "<text class=\"displacy-token\" fill=\"currentColor\" text-anchor=\"middle\" y=\"572.0\">\n",
              "    <tspan class=\"displacy-word\" fill=\"currentColor\" x=\"1100\">and</tspan>\n",
              "    <tspan class=\"displacy-tag\" dy=\"2em\" fill=\"currentColor\" x=\"1100\">CCONJ</tspan>\n",
              "</text>\n",
              "\n",
              "<text class=\"displacy-token\" fill=\"currentColor\" text-anchor=\"middle\" y=\"572.0\">\n",
              "    <tspan class=\"displacy-word\" fill=\"currentColor\" x=\"1275\">no</tspan>\n",
              "    <tspan class=\"displacy-tag\" dy=\"2em\" fill=\"currentColor\" x=\"1275\">DET</tspan>\n",
              "</text>\n",
              "\n",
              "<text class=\"displacy-token\" fill=\"currentColor\" text-anchor=\"middle\" y=\"572.0\">\n",
              "    <tspan class=\"displacy-word\" fill=\"currentColor\" x=\"1450\">one</tspan>\n",
              "    <tspan class=\"displacy-tag\" dy=\"2em\" fill=\"currentColor\" x=\"1450\">NOUN</tspan>\n",
              "</text>\n",
              "\n",
              "<text class=\"displacy-token\" fill=\"currentColor\" text-anchor=\"middle\" y=\"572.0\">\n",
              "    <tspan class=\"displacy-word\" fill=\"currentColor\" x=\"1625\">knew,</tspan>\n",
              "    <tspan class=\"displacy-tag\" dy=\"2em\" fill=\"currentColor\" x=\"1625\">VERB</tspan>\n",
              "</text>\n",
              "\n",
              "<text class=\"displacy-token\" fill=\"currentColor\" text-anchor=\"middle\" y=\"572.0\">\n",
              "    <tspan class=\"displacy-word\" fill=\"currentColor\" x=\"1800\">Mark</tspan>\n",
              "    <tspan class=\"displacy-tag\" dy=\"2em\" fill=\"currentColor\" x=\"1800\">PROPN</tspan>\n",
              "</text>\n",
              "\n",
              "<text class=\"displacy-token\" fill=\"currentColor\" text-anchor=\"middle\" y=\"572.0\">\n",
              "    <tspan class=\"displacy-word\" fill=\"currentColor\" x=\"1975\">Gurman</tspan>\n",
              "    <tspan class=\"displacy-tag\" dy=\"2em\" fill=\"currentColor\" x=\"1975\">PROPN</tspan>\n",
              "</text>\n",
              "\n",
              "<text class=\"displacy-token\" fill=\"currentColor\" text-anchor=\"middle\" y=\"572.0\">\n",
              "    <tspan class=\"displacy-word\" fill=\"currentColor\" x=\"2150\">at</tspan>\n",
              "    <tspan class=\"displacy-tag\" dy=\"2em\" fill=\"currentColor\" x=\"2150\">ADP</tspan>\n",
              "</text>\n",
              "\n",
              "<text class=\"displacy-token\" fill=\"currentColor\" text-anchor=\"middle\" y=\"572.0\">\n",
              "    <tspan class=\"displacy-word\" fill=\"currentColor\" x=\"2325\">9to5Mac</tspan>\n",
              "    <tspan class=\"displacy-tag\" dy=\"2em\" fill=\"currentColor\" x=\"2325\">NUM</tspan>\n",
              "</text>\n",
              "\n",
              "<text class=\"displacy-token\" fill=\"currentColor\" text-anchor=\"middle\" y=\"572.0\">\n",
              "    <tspan class=\"displacy-word\" fill=\"currentColor\" x=\"2500\">reports.</tspan>\n",
              "    <tspan class=\"displacy-tag\" dy=\"2em\" fill=\"currentColor\" x=\"2500\">NOUN</tspan>\n",
              "</text>\n",
              "\n",
              "<g class=\"displacy-arrow\">\n",
              "    <path class=\"displacy-arc\" id=\"arrow-1daa7c51565f44e588504452b29926c9-0-0\" stroke-width=\"2px\" d=\"M70,527.0 C70,439.5 200.0,439.5 200.0,527.0\" fill=\"none\" stroke=\"currentColor\"/>\n",
              "    <text dy=\"1.25em\" style=\"font-size: 0.8em; letter-spacing: 1px\">\n",
              "        <textPath xlink:href=\"#arrow-1daa7c51565f44e588504452b29926c9-0-0\" class=\"displacy-label\" startOffset=\"50%\" side=\"left\" fill=\"currentColor\" text-anchor=\"middle\">nsubj</textPath>\n",
              "    </text>\n",
              "    <path class=\"displacy-arrowhead\" d=\"M70,529.0 L62,517.0 78,517.0\" fill=\"currentColor\"/>\n",
              "</g>\n",
              "\n",
              "<g class=\"displacy-arrow\">\n",
              "    <path class=\"displacy-arc\" id=\"arrow-1daa7c51565f44e588504452b29926c9-0-1\" stroke-width=\"2px\" d=\"M420,527.0 C420,439.5 550.0,439.5 550.0,527.0\" fill=\"none\" stroke=\"currentColor\"/>\n",
              "    <text dy=\"1.25em\" style=\"font-size: 0.8em; letter-spacing: 1px\">\n",
              "        <textPath xlink:href=\"#arrow-1daa7c51565f44e588504452b29926c9-0-1\" class=\"displacy-label\" startOffset=\"50%\" side=\"left\" fill=\"currentColor\" text-anchor=\"middle\">nummod</textPath>\n",
              "    </text>\n",
              "    <path class=\"displacy-arrowhead\" d=\"M420,529.0 L412,517.0 428,517.0\" fill=\"currentColor\"/>\n",
              "</g>\n",
              "\n",
              "<g class=\"displacy-arrow\">\n",
              "    <path class=\"displacy-arc\" id=\"arrow-1daa7c51565f44e588504452b29926c9-0-2\" stroke-width=\"2px\" d=\"M245,527.0 C245,352.0 555.0,352.0 555.0,527.0\" fill=\"none\" stroke=\"currentColor\"/>\n",
              "    <text dy=\"1.25em\" style=\"font-size: 0.8em; letter-spacing: 1px\">\n",
              "        <textPath xlink:href=\"#arrow-1daa7c51565f44e588504452b29926c9-0-2\" class=\"displacy-label\" startOffset=\"50%\" side=\"left\" fill=\"currentColor\" text-anchor=\"middle\">dobj</textPath>\n",
              "    </text>\n",
              "    <path class=\"displacy-arrowhead\" d=\"M555.0,529.0 L563.0,517.0 547.0,517.0\" fill=\"currentColor\"/>\n",
              "</g>\n",
              "\n",
              "<g class=\"displacy-arrow\">\n",
              "    <path class=\"displacy-arc\" id=\"arrow-1daa7c51565f44e588504452b29926c9-0-3\" stroke-width=\"2px\" d=\"M770,527.0 C770,439.5 900.0,439.5 900.0,527.0\" fill=\"none\" stroke=\"currentColor\"/>\n",
              "    <text dy=\"1.25em\" style=\"font-size: 0.8em; letter-spacing: 1px\">\n",
              "        <textPath xlink:href=\"#arrow-1daa7c51565f44e588504452b29926c9-0-3\" class=\"displacy-label\" startOffset=\"50%\" side=\"left\" fill=\"currentColor\" text-anchor=\"middle\">det</textPath>\n",
              "    </text>\n",
              "    <path class=\"displacy-arrowhead\" d=\"M770,529.0 L762,517.0 778,517.0\" fill=\"currentColor\"/>\n",
              "</g>\n",
              "\n",
              "<g class=\"displacy-arrow\">\n",
              "    <path class=\"displacy-arc\" id=\"arrow-1daa7c51565f44e588504452b29926c9-0-4\" stroke-width=\"2px\" d=\"M245,527.0 C245,177.0 915.0,177.0 915.0,527.0\" fill=\"none\" stroke=\"currentColor\"/>\n",
              "    <text dy=\"1.25em\" style=\"font-size: 0.8em; letter-spacing: 1px\">\n",
              "        <textPath xlink:href=\"#arrow-1daa7c51565f44e588504452b29926c9-0-4\" class=\"displacy-label\" startOffset=\"50%\" side=\"left\" fill=\"currentColor\" text-anchor=\"middle\">npadvmod</textPath>\n",
              "    </text>\n",
              "    <path class=\"displacy-arrowhead\" d=\"M915.0,529.0 L923.0,517.0 907.0,517.0\" fill=\"currentColor\"/>\n",
              "</g>\n",
              "\n",
              "<g class=\"displacy-arrow\">\n",
              "    <path class=\"displacy-arc\" id=\"arrow-1daa7c51565f44e588504452b29926c9-0-5\" stroke-width=\"2px\" d=\"M245,527.0 C245,89.5 1095.0,89.5 1095.0,527.0\" fill=\"none\" stroke=\"currentColor\"/>\n",
              "    <text dy=\"1.25em\" style=\"font-size: 0.8em; letter-spacing: 1px\">\n",
              "        <textPath xlink:href=\"#arrow-1daa7c51565f44e588504452b29926c9-0-5\" class=\"displacy-label\" startOffset=\"50%\" side=\"left\" fill=\"currentColor\" text-anchor=\"middle\">cc</textPath>\n",
              "    </text>\n",
              "    <path class=\"displacy-arrowhead\" d=\"M1095.0,529.0 L1103.0,517.0 1087.0,517.0\" fill=\"currentColor\"/>\n",
              "</g>\n",
              "\n",
              "<g class=\"displacy-arrow\">\n",
              "    <path class=\"displacy-arc\" id=\"arrow-1daa7c51565f44e588504452b29926c9-0-6\" stroke-width=\"2px\" d=\"M1295,527.0 C1295,439.5 1425.0,439.5 1425.0,527.0\" fill=\"none\" stroke=\"currentColor\"/>\n",
              "    <text dy=\"1.25em\" style=\"font-size: 0.8em; letter-spacing: 1px\">\n",
              "        <textPath xlink:href=\"#arrow-1daa7c51565f44e588504452b29926c9-0-6\" class=\"displacy-label\" startOffset=\"50%\" side=\"left\" fill=\"currentColor\" text-anchor=\"middle\">det</textPath>\n",
              "    </text>\n",
              "    <path class=\"displacy-arrowhead\" d=\"M1295,529.0 L1287,517.0 1303,517.0\" fill=\"currentColor\"/>\n",
              "</g>\n",
              "\n",
              "<g class=\"displacy-arrow\">\n",
              "    <path class=\"displacy-arc\" id=\"arrow-1daa7c51565f44e588504452b29926c9-0-7\" stroke-width=\"2px\" d=\"M1470,527.0 C1470,439.5 1600.0,439.5 1600.0,527.0\" fill=\"none\" stroke=\"currentColor\"/>\n",
              "    <text dy=\"1.25em\" style=\"font-size: 0.8em; letter-spacing: 1px\">\n",
              "        <textPath xlink:href=\"#arrow-1daa7c51565f44e588504452b29926c9-0-7\" class=\"displacy-label\" startOffset=\"50%\" side=\"left\" fill=\"currentColor\" text-anchor=\"middle\">nsubj</textPath>\n",
              "    </text>\n",
              "    <path class=\"displacy-arrowhead\" d=\"M1470,529.0 L1462,517.0 1478,517.0\" fill=\"currentColor\"/>\n",
              "</g>\n",
              "\n",
              "<g class=\"displacy-arrow\">\n",
              "    <path class=\"displacy-arc\" id=\"arrow-1daa7c51565f44e588504452b29926c9-0-8\" stroke-width=\"2px\" d=\"M245,527.0 C245,2.0 1625.0,2.0 1625.0,527.0\" fill=\"none\" stroke=\"currentColor\"/>\n",
              "    <text dy=\"1.25em\" style=\"font-size: 0.8em; letter-spacing: 1px\">\n",
              "        <textPath xlink:href=\"#arrow-1daa7c51565f44e588504452b29926c9-0-8\" class=\"displacy-label\" startOffset=\"50%\" side=\"left\" fill=\"currentColor\" text-anchor=\"middle\">conj</textPath>\n",
              "    </text>\n",
              "    <path class=\"displacy-arrowhead\" d=\"M1625.0,529.0 L1633.0,517.0 1617.0,517.0\" fill=\"currentColor\"/>\n",
              "</g>\n",
              "\n",
              "<g class=\"displacy-arrow\">\n",
              "    <path class=\"displacy-arc\" id=\"arrow-1daa7c51565f44e588504452b29926c9-0-9\" stroke-width=\"2px\" d=\"M1820,527.0 C1820,439.5 1950.0,439.5 1950.0,527.0\" fill=\"none\" stroke=\"currentColor\"/>\n",
              "    <text dy=\"1.25em\" style=\"font-size: 0.8em; letter-spacing: 1px\">\n",
              "        <textPath xlink:href=\"#arrow-1daa7c51565f44e588504452b29926c9-0-9\" class=\"displacy-label\" startOffset=\"50%\" side=\"left\" fill=\"currentColor\" text-anchor=\"middle\">compound</textPath>\n",
              "    </text>\n",
              "    <path class=\"displacy-arrowhead\" d=\"M1820,529.0 L1812,517.0 1828,517.0\" fill=\"currentColor\"/>\n",
              "</g>\n",
              "\n",
              "<g class=\"displacy-arrow\">\n",
              "    <path class=\"displacy-arc\" id=\"arrow-1daa7c51565f44e588504452b29926c9-0-10\" stroke-width=\"2px\" d=\"M1645,527.0 C1645,352.0 1955.0,352.0 1955.0,527.0\" fill=\"none\" stroke=\"currentColor\"/>\n",
              "    <text dy=\"1.25em\" style=\"font-size: 0.8em; letter-spacing: 1px\">\n",
              "        <textPath xlink:href=\"#arrow-1daa7c51565f44e588504452b29926c9-0-10\" class=\"displacy-label\" startOffset=\"50%\" side=\"left\" fill=\"currentColor\" text-anchor=\"middle\">npadvmod</textPath>\n",
              "    </text>\n",
              "    <path class=\"displacy-arrowhead\" d=\"M1955.0,529.0 L1963.0,517.0 1947.0,517.0\" fill=\"currentColor\"/>\n",
              "</g>\n",
              "\n",
              "<g class=\"displacy-arrow\">\n",
              "    <path class=\"displacy-arc\" id=\"arrow-1daa7c51565f44e588504452b29926c9-0-11\" stroke-width=\"2px\" d=\"M1645,527.0 C1645,264.5 2135.0,264.5 2135.0,527.0\" fill=\"none\" stroke=\"currentColor\"/>\n",
              "    <text dy=\"1.25em\" style=\"font-size: 0.8em; letter-spacing: 1px\">\n",
              "        <textPath xlink:href=\"#arrow-1daa7c51565f44e588504452b29926c9-0-11\" class=\"displacy-label\" startOffset=\"50%\" side=\"left\" fill=\"currentColor\" text-anchor=\"middle\">prep</textPath>\n",
              "    </text>\n",
              "    <path class=\"displacy-arrowhead\" d=\"M2135.0,529.0 L2143.0,517.0 2127.0,517.0\" fill=\"currentColor\"/>\n",
              "</g>\n",
              "\n",
              "<g class=\"displacy-arrow\">\n",
              "    <path class=\"displacy-arc\" id=\"arrow-1daa7c51565f44e588504452b29926c9-0-12\" stroke-width=\"2px\" d=\"M2170,527.0 C2170,439.5 2300.0,439.5 2300.0,527.0\" fill=\"none\" stroke=\"currentColor\"/>\n",
              "    <text dy=\"1.25em\" style=\"font-size: 0.8em; letter-spacing: 1px\">\n",
              "        <textPath xlink:href=\"#arrow-1daa7c51565f44e588504452b29926c9-0-12\" class=\"displacy-label\" startOffset=\"50%\" side=\"left\" fill=\"currentColor\" text-anchor=\"middle\">pobj</textPath>\n",
              "    </text>\n",
              "    <path class=\"displacy-arrowhead\" d=\"M2300.0,529.0 L2308.0,517.0 2292.0,517.0\" fill=\"currentColor\"/>\n",
              "</g>\n",
              "\n",
              "<g class=\"displacy-arrow\">\n",
              "    <path class=\"displacy-arc\" id=\"arrow-1daa7c51565f44e588504452b29926c9-0-13\" stroke-width=\"2px\" d=\"M2170,527.0 C2170,352.0 2480.0,352.0 2480.0,527.0\" fill=\"none\" stroke=\"currentColor\"/>\n",
              "    <text dy=\"1.25em\" style=\"font-size: 0.8em; letter-spacing: 1px\">\n",
              "        <textPath xlink:href=\"#arrow-1daa7c51565f44e588504452b29926c9-0-13\" class=\"displacy-label\" startOffset=\"50%\" side=\"left\" fill=\"currentColor\" text-anchor=\"middle\">pobj</textPath>\n",
              "    </text>\n",
              "    <path class=\"displacy-arrowhead\" d=\"M2480.0,529.0 L2488.0,517.0 2472.0,517.0\" fill=\"currentColor\"/>\n",
              "</g>\n",
              "</svg></span>"
            ],
            "text/plain": [
              "<IPython.core.display.HTML object>"
            ]
          },
          "metadata": {}
        }
      ]
    },
    {
      "cell_type": "code",
      "metadata": {
        "id": "U_dYWLCMk-RO",
        "colab": {
          "base_uri": "https://localhost:8080/"
        },
        "outputId": "7bf09cbd-1d63-46f6-fc69-8d4e7cc1ec31"
      },
      "source": [
        "result"
      ],
      "execution_count": null,
      "outputs": [
        {
          "output_type": "execute_result",
          "data": {
            "text/plain": [
              "Apple bought two companies this year and no one knew, Mark Gurman at 9to5Mac reports."
            ]
          },
          "metadata": {},
          "execution_count": 19
        }
      ]
    },
    {
      "cell_type": "code",
      "metadata": {
        "colab": {
          "base_uri": "https://localhost:8080/"
        },
        "id": "Sc60zYMQPXfD",
        "outputId": "e124e17d-1a3d-4167-9bf3-78b6157ec5ac"
      },
      "source": [
        "for token in result:\n",
        "    print('Text of the token:',token.text,)\n",
        "    print('Text of the token:',token.pos_)\n",
        "    print('Uninflected base form;',token.lemma_)\n",
        "    print('Parent token:',token.head)\n",
        "    print('The label:',token.dep_)\n",
        "    print('--------')"
      ],
      "execution_count": null,
      "outputs": [
        {
          "output_type": "stream",
          "name": "stdout",
          "text": [
            "Text of the token: Apple\n",
            "Text of the token: PROPN\n",
            "Uninflected base form; Apple\n",
            "Parent token: bought\n",
            "The label: nsubj\n",
            "--------\n",
            "Text of the token: bought\n",
            "Text of the token: VERB\n",
            "Uninflected base form; buy\n",
            "Parent token: bought\n",
            "The label: ROOT\n",
            "--------\n",
            "Text of the token: two\n",
            "Text of the token: NUM\n",
            "Uninflected base form; two\n",
            "Parent token: companies\n",
            "The label: nummod\n",
            "--------\n",
            "Text of the token: companies\n",
            "Text of the token: NOUN\n",
            "Uninflected base form; company\n",
            "Parent token: bought\n",
            "The label: dobj\n",
            "--------\n",
            "Text of the token: this\n",
            "Text of the token: DET\n",
            "Uninflected base form; this\n",
            "Parent token: year\n",
            "The label: det\n",
            "--------\n",
            "Text of the token: year\n",
            "Text of the token: NOUN\n",
            "Uninflected base form; year\n",
            "Parent token: bought\n",
            "The label: npadvmod\n",
            "--------\n",
            "Text of the token: and\n",
            "Text of the token: CCONJ\n",
            "Uninflected base form; and\n",
            "Parent token: bought\n",
            "The label: cc\n",
            "--------\n",
            "Text of the token: no\n",
            "Text of the token: DET\n",
            "Uninflected base form; no\n",
            "Parent token: one\n",
            "The label: det\n",
            "--------\n",
            "Text of the token: one\n",
            "Text of the token: NOUN\n",
            "Uninflected base form; one\n",
            "Parent token: knew\n",
            "The label: nsubj\n",
            "--------\n",
            "Text of the token: knew\n",
            "Text of the token: VERB\n",
            "Uninflected base form; know\n",
            "Parent token: bought\n",
            "The label: conj\n",
            "--------\n",
            "Text of the token: ,\n",
            "Text of the token: PUNCT\n",
            "Uninflected base form; ,\n",
            "Parent token: knew\n",
            "The label: punct\n",
            "--------\n",
            "Text of the token: Mark\n",
            "Text of the token: PROPN\n",
            "Uninflected base form; Mark\n",
            "Parent token: Gurman\n",
            "The label: compound\n",
            "--------\n",
            "Text of the token: Gurman\n",
            "Text of the token: PROPN\n",
            "Uninflected base form; Gurman\n",
            "Parent token: knew\n",
            "The label: npadvmod\n",
            "--------\n",
            "Text of the token: at\n",
            "Text of the token: ADP\n",
            "Uninflected base form; at\n",
            "Parent token: knew\n",
            "The label: prep\n",
            "--------\n",
            "Text of the token: 9to5Mac\n",
            "Text of the token: NUM\n",
            "Uninflected base form; 9to5mac\n",
            "Parent token: at\n",
            "The label: pobj\n",
            "--------\n",
            "Text of the token: reports\n",
            "Text of the token: NOUN\n",
            "Uninflected base form; report\n",
            "Parent token: at\n",
            "The label: pobj\n",
            "--------\n",
            "Text of the token: .\n",
            "Text of the token: PUNCT\n",
            "Uninflected base form; .\n",
            "Parent token: knew\n",
            "The label: punct\n",
            "--------\n"
          ]
        }
      ]
    },
    {
      "cell_type": "code",
      "metadata": {
        "colab": {
          "base_uri": "https://localhost:8080/"
        },
        "id": "qQkfAghhPdrA",
        "outputId": "2c1c472f-b230-4b45-89f2-c47beb338791"
      },
      "source": [
        "for entity in result.ents:\n",
        "    print(entity.text)\n",
        "    print(entity.label_)\n",
        "    print('------')"
      ],
      "execution_count": null,
      "outputs": [
        {
          "output_type": "stream",
          "name": "stdout",
          "text": [
            "Apple\n",
            "ORG\n",
            "------\n",
            "two\n",
            "CARDINAL\n",
            "------\n",
            "this year\n",
            "DATE\n",
            "------\n",
            "Mark Gurman\n",
            "PERSON\n",
            "------\n",
            "9to5Mac\n",
            "CARDINAL\n",
            "------\n"
          ]
        }
      ]
    },
    {
      "cell_type": "code",
      "metadata": {
        "id": "V0ANEvXIRcm0"
      },
      "source": [
        ""
      ],
      "execution_count": null,
      "outputs": []
    }
  ]
}