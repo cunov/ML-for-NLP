{
 "cells": [
  {
   "cell_type": "markdown",
   "metadata": {},
   "source": [
    "# Homework 2"
   ]
  },
  {
   "cell_type": "code",
   "execution_count": 1,
   "metadata": {},
   "outputs": [],
   "source": [
    "import nltk\n",
    "from nltk.tokenize import RegexpTokenizer\n",
    "from nltk.stem import WordNetLemmatizer\n",
    "import numpy as np\n",
    "from collections import Counter, defaultdict\n",
    "import sys\n",
    "import seaborn as sns\n",
    "import matplotlib.pyplot as plt\n",
    "from IPython.display import clear_output\n",
    "from nltk.corpus import stopwords\n",
    "\n",
    "# nltk.download('wordnet')\n",
    "# nltk.download('stopwords')"
   ]
  },
  {
   "cell_type": "code",
   "execution_count": 2,
   "metadata": {},
   "outputs": [],
   "source": [
    "austen = nltk.corpus.gutenberg.words('austen-sense.txt')"
   ]
  },
  {
   "cell_type": "code",
   "execution_count": 3,
   "metadata": {},
   "outputs": [],
   "source": [
    "def heatmap_by_topic_doc(z_m_n, K, D):\n",
    "## Generate a heatmap where x-axis is Document, y-axis is Topic, and value is frequency of assigned words\n",
    "    distn = np.zeros((D, K))\n",
    "    for i in range(len(z_m_n)):\n",
    "        cnt = Counter()\n",
    "        for j in range(len(z_m_n[i])):\n",
    "            cnt[z_m_n[i][j]] += 1\n",
    "\n",
    "        doc_len = len(z_m_n[i])\n",
    "        for k in range(K):\n",
    "            distn[i,k] = cnt.get(k,0) / doc_len\n",
    "\n",
    "    sns.heatmap(distn.T,cmap='Greys', vmin=0, vmax=1)\n",
    "    plt.xlabel('Document')\n",
    "    plt.ylabel('Topic')\n",
    "    plt.show()"
   ]
  },
  {
   "cell_type": "markdown",
   "metadata": {},
   "source": [
    "# Using Jane Austen's **Sense**\n",
    "## [1] Preprocessing\n",
    "* Remove all non-words\n",
    "* Remove all stop words\n",
    "* Lowercase and lemmatize\n",
    "* Remove words with <=10 occurrences"
   ]
  },
  {
   "cell_type": "code",
   "execution_count": 4,
   "metadata": {},
   "outputs": [],
   "source": [
    "lemmatizer = WordNetLemmatizer()\n",
    "austen = [word for word in austen if word.isalpha()]\n",
    "\n",
    "austen = [word.lower() for word in austen]\n",
    "austen = [word for word in austen if not word in stopwords.words('english')] # remove stop words\n",
    "austen = [lemmatizer.lemmatize(word) for word in austen]\n",
    "\n",
    "austen_list = austen"
   ]
  },
  {
   "cell_type": "markdown",
   "metadata": {},
   "source": [
    "### [1.1] Word-to-Int mapping"
   ]
  },
  {
   "cell_type": "code",
   "execution_count": 5,
   "metadata": {},
   "outputs": [],
   "source": [
    "freqs = Counter()\n",
    "for token in austen_list:\n",
    "    freqs[token] += 1                                 # freqs is dict(), i.e. freqs[word] = count\n",
    "freqs = freqs.most_common()                   # now freqs is tuple of (word, count)\n",
    "words_to_drop = [k for k,v in freqs if v<10]\n",
    "\n",
    "word2int = {freqs[i][0]:i for i in range(len(freqs)) if not freqs[i][0] in words_to_drop}  # mapping is dict of freqs[word]=r where r=rank\n",
    "int2word = {v:k for k,v in word2int.items()}\n",
    "\n",
    "austen_list = [word for word in austen_list if not word in words_to_drop]\n",
    "\n",
    "freqs = Counter()\n",
    "for token in austen_list:\n",
    "    freqs[token] += 1\n",
    "freqs = freqs.most_common()"
   ]
  },
  {
   "cell_type": "markdown",
   "metadata": {},
   "source": [
    "### [1.2] Split the corpus into documents on the word \"chapter\""
   ]
  },
  {
   "cell_type": "code",
   "execution_count": 6,
   "metadata": {},
   "outputs": [
    {
     "name": "stdout",
     "output_type": "stream",
     "text": [
      "Total number of tokens: 41212\n",
      "Number of unique tokens: 1060\n",
      "Number of documents: 49\n"
     ]
    }
   ],
   "source": [
    "docs = []\n",
    "start = 0\n",
    "i = 0\n",
    "while i < len(austen_list):\n",
    "    if austen_list[i] == 'chapter':\n",
    "        docs.append(austen_list[start:i-1])\n",
    "        start = i + 1\n",
    "    i += 1\n",
    "    \n",
    "docs = docs[1:]                  # the first doc is very short, throw it out\n",
    "N_W = sum(len(doc) for doc in docs)\n",
    "N_W_unique = len(set(austen_list))\n",
    "N_D = len(docs)\n",
    "print('Total number of tokens: ' + str(N_W))\n",
    "print('Number of unique tokens: ' + str(N_W_unique))\n",
    "print('Number of documents: ' + str(N_D))"
   ]
  },
  {
   "cell_type": "markdown",
   "metadata": {},
   "source": [
    "### [1.3] Collapsed Gibbs Sampling\n",
    "In this section, we try 3 different hyperparameter settings, denoted in sections by\n",
    "* [1.31] ($\\alpha$=$\\beta$=0.1, $K$=10)\n",
    "   * [1.31a] Initialization \n",
    "   * [1.31b] Iteration\n",
    "* [1.32] ($\\alpha$=$\\beta$=0.01, $K$=10)\n",
    "   * [1.32a] Initialization \n",
    "   * [1.32b] Iteration\n",
    "* [1.33] ($\\alpha$=$\\beta$=0.1, $K$=50)\n",
    "   * [1.33a] Initialization\n",
    "   * [1.33b] Iteration"
   ]
  },
  {
   "cell_type": "code",
   "execution_count": 7,
   "metadata": {},
   "outputs": [],
   "source": [
    "K = 10\n",
    "V = len(set(austen_list))\n",
    "D = len(docs)\n",
    "alpha = 0.1\n",
    "beta = alpha\n",
    "\n",
    "# for printing a number of words from randomly chosen topics (to compare before and after)\n",
    "topic_groups_to_print = np.random.randint(0, K, 2)\n",
    "number_words_to_print = 10"
   ]
  },
  {
   "cell_type": "markdown",
   "metadata": {},
   "source": [
    "#### [1.31a] Initialization ($\\alpha$=$\\beta$=0.1, $K$=10)"
   ]
  },
  {
   "cell_type": "code",
   "execution_count": 8,
   "metadata": {},
   "outputs": [
    {
     "name": "stdout",
     "output_type": "stream",
     "text": [
      "Initialized heatmap\n"
     ]
    },
    {
     "data": {
      "image/png": "[encoded data removed]",
      "text/plain": [
       "<Figure size 432x288 with 2 Axes>"
      ]
     },
     "metadata": {
      "needs_background": "light"
     },
     "output_type": "display_data"
    },
    {
     "name": "stdout",
     "output_type": "stream",
     "text": [
      "Most common words from topic group #3\n",
      "said, great, come, day, see, dear, miss, say, year, might, \n",
      "\n",
      "Most common words from topic group #6\n",
      "marianne, said, colonel, know, letter, may, sir, time, away, indeed, \n",
      "\n"
     ]
    }
   ],
   "source": [
    "z_d_ld = [] # word-topic assignment (size = # documents x len(document i)), topic<-z\n",
    "n_d_k = np.zeros((D, K)) + alpha # word counts by document and topic\n",
    "n_k_v = np.zeros((K, V)) + beta # word counts by topic and word2int\n",
    "n_k = np.zeros(K) + V*beta # word counts by topic\n",
    "for i_doc, doc in enumerate(docs):\n",
    "    z_n = []\n",
    "    for word in doc:\n",
    "        p_z = n_k_v[:, word2int[word]] * n_d_k[i_doc] / n_k     # probability dist'n of topics\n",
    "        z = np.random.multinomial(1, p_z / p_z.sum()).argmax()  # randomly sampled topic\n",
    "        \n",
    "        # increment this topic\n",
    "        z_n.append(z)\n",
    "        n_d_k[i_doc, z] += 1\n",
    "        n_k_v[z, word2int[word]] += 1\n",
    "        n_k[z] += 1\n",
    "    z_d_ld.append(np.array(z_n))\n",
    "    \n",
    "print('Initialized heatmap')\n",
    "heatmap_by_topic_doc(z_d_ld, K, D)\n",
    "\n",
    "for group_id in topic_groups_to_print:\n",
    "    print('Most common words from topic group #' + str(group_id))\n",
    "    ids = (-n_k_v[group_id, :]).argsort()[:number_words_to_print]\n",
    "    for idd in ids:\n",
    "        print(int2word[idd],end=', ')\n",
    "    print('\\n')"
   ]
  },
  {
   "cell_type": "markdown",
   "metadata": {},
   "source": [
    "#### [1.31b] Iteration ($\\alpha$=$\\beta$=0.1, $K$=10)"
   ]
  },
  {
   "cell_type": "code",
   "execution_count": 9,
   "metadata": {},
   "outputs": [
    {
     "data": {
      "image/png": "[encoded data removed]",
      "text/plain": [
       "<Figure size 432x288 with 2 Axes>"
      ]
     },
     "metadata": {
      "needs_background": "light"
     },
     "output_type": "display_data"
    },
    {
     "name": "stdout",
     "output_type": "stream",
     "text": [
      "Most common words from topic group #3\n",
      "said, know, replied, margaret, think, john, walk, barton, park, taste, \n",
      "\n",
      "Most common words from topic group #6\n",
      "mr, colonel, jennings, brandon, soon, friend, barton, day, hope, palmer, \n",
      "\n"
     ]
    }
   ],
   "source": [
    "num_iter = 100\n",
    "for i in range(num_iter):\n",
    "    for i_doc, doc in enumerate(docs):\n",
    "        for i_word, word in enumerate(doc):\n",
    "            z = z_d_ld[i_doc][i_word]\n",
    "            # decrement this topic\n",
    "            n_d_k[i_doc, z] -= 1\n",
    "            n_k_v[z, word2int[word]] -= 1\n",
    "            n_k[z] -= 1\n",
    "            \n",
    "            # draw new topic\n",
    "            p_z = n_d_k[i_doc] * n_k_v[:, word2int[word]] / n_k\n",
    "            new_z = np.random.multinomial(1, p_z / p_z.sum()).argmax()\n",
    "            \n",
    "            # increment new topic\n",
    "            z_d_ld[i_doc][i_word] = new_z\n",
    "            n_d_k[i_doc, new_z] += 1\n",
    "            n_k_v[new_z, word2int[word]] += 1\n",
    "            n_k[new_z] += 1\n",
    "    print('Iteration #', i)\n",
    "    clear_output(wait=True)\n",
    "    \n",
    "heatmap_by_topic_doc(z_d_ld, K, D)\n",
    "for group_id in topic_groups_to_print:\n",
    "    print('Most common words from topic group #' + str(group_id))\n",
    "    ids = (-n_k_v[group_id, :]).argsort()[:number_words_to_print]\n",
    "    for idd in ids:\n",
    "        print(int2word[idd],end=', ')\n",
    "    print('\\n')"
   ]
  },
  {
   "cell_type": "markdown",
   "metadata": {},
   "source": [
    "#### [1.32a] Initialization ($\\alpha$=$\\beta$=0.01, $K$=10)"
   ]
  },
  {
   "cell_type": "code",
   "execution_count": 10,
   "metadata": {},
   "outputs": [
    {
     "name": "stdout",
     "output_type": "stream",
     "text": [
      "Initialized heatmap\n"
     ]
    },
    {
     "data": {
      "image/png": "[encoded data removed]",
      "text/plain": [
       "<Figure size 432x288 with 2 Axes>"
      ]
     },
     "metadata": {
      "needs_background": "light"
     },
     "output_type": "display_data"
    },
    {
     "name": "stdout",
     "output_type": "stream",
     "text": [
      "Most common words from topic group #6\n",
      "mr, elinor, could, would, marianne, every, sister, one, must, dashwood, \n",
      "\n",
      "Most common words from topic group #0\n",
      "elinor, marianne, would, could, every, well, edward, one, much, sister, \n",
      "\n"
     ]
    }
   ],
   "source": [
    "K = 10\n",
    "V = len(set(austen_list))\n",
    "D = len(docs)\n",
    "alpha = 0.01\n",
    "beta = alpha\n",
    "\n",
    "# for printing a number of words from randomly chosen topics (to compare before and after)\n",
    "topic_groups_to_print = np.random.randint(0, K, 2)\n",
    "number_words_to_print = 10\n",
    "\n",
    "z_d_ld = [] # word-topic assignment (size = # documents x len(document i)), topic<-z\n",
    "n_d_k = np.zeros((D, K)) + alpha # word counts by document and topic\n",
    "n_k_v = np.zeros((K, V)) + beta # word counts by topic and word2int\n",
    "n_k = np.zeros(K) + V*beta # word counts by topic\n",
    "for i_doc, doc in enumerate(docs):\n",
    "    z_n = []\n",
    "    for word in doc:\n",
    "        p_z = n_k_v[:, word2int[word]] * n_d_k[i_doc] / n_k     # probability dist'n of topics\n",
    "        z = np.random.multinomial(1, p_z / p_z.sum()).argmax()  # randomly sampled topic\n",
    "        \n",
    "        # increment this topic\n",
    "        z_n.append(z)\n",
    "        n_d_k[i_doc, z] += 1\n",
    "        n_k_v[z, word2int[word]] += 1\n",
    "        n_k[z] += 1\n",
    "    z_d_ld.append(np.array(z_n))\n",
    "    \n",
    "print('Initialized heatmap')\n",
    "heatmap_by_topic_doc(z_d_ld, K, D)\n",
    "\n",
    "for group_id in topic_groups_to_print:\n",
    "    print('Most common words from topic group #' + str(group_id))\n",
    "    ids = (-n_k_v[group_id, :]).argsort()[:number_words_to_print]\n",
    "    for idd in ids:\n",
    "        print(int2word[idd],end=', ')\n",
    "    print('\\n')"
   ]
  },
  {
   "cell_type": "markdown",
   "metadata": {},
   "source": [
    "#### [1.32b] Iteration ($\\alpha$=$\\beta$=0.01, $K$=10)"
   ]
  },
  {
   "cell_type": "code",
   "execution_count": 11,
   "metadata": {},
   "outputs": [
    {
     "data": {
      "image/png": "[encoded data removed]",
      "text/plain": [
       "<Figure size 432x288 with 2 Axes>"
      ]
     },
     "metadata": {
      "needs_background": "light"
     },
     "output_type": "display_data"
    },
    {
     "name": "stdout",
     "output_type": "stream",
     "text": [
      "Most common words from topic group #6\n",
      "marianne, mr, could, would, every, sister, one, time, elinor, must, \n",
      "\n",
      "Most common words from topic group #0\n",
      "elinor, would, said, much, well, make, could, edward, great, one, \n",
      "\n"
     ]
    }
   ],
   "source": [
    "num_iter = 100\n",
    "for i in range(num_iter):\n",
    "    for i_doc, doc in enumerate(docs):\n",
    "        for i_word, word in enumerate(doc):\n",
    "            z = z_d_ld[i_doc][i_word]\n",
    "            # decrement this topic\n",
    "            n_d_k[i_doc, z] -= 1\n",
    "            n_k_v[z, word2int[word]] -= 1\n",
    "            n_k[z] -= 1\n",
    "            \n",
    "            # draw new topic\n",
    "            p_z = n_d_k[i_doc] * n_k_v[:, word2int[word]] / n_k\n",
    "            new_z = np.random.multinomial(1, p_z / p_z.sum()).argmax()\n",
    "            \n",
    "            # increment new topic\n",
    "            z_d_ld[i_doc][i_word] = new_z\n",
    "            n_d_k[i_doc, new_z] += 1\n",
    "            n_k_v[new_z, word2int[word]] += 1\n",
    "            n_k[new_z] += 1\n",
    "    print('Iteration #', i)\n",
    "    clear_output(wait=True)\n",
    "    \n",
    "heatmap_by_topic_doc(z_d_ld, K, D)\n",
    "for group_id in topic_groups_to_print:\n",
    "    print('Most common words from topic group #' + str(group_id))\n",
    "    ids = (-n_k_v[group_id, :]).argsort()[:number_words_to_print]\n",
    "    for idd in ids:\n",
    "        print(int2word[idd],end=', ')\n",
    "    print('\\n')"
   ]
  },
  {
   "cell_type": "markdown",
   "metadata": {},
   "source": [
    "#### [1.33a] Initialization ($\\alpha$=$\\beta$=0.1, $K$=50)"
   ]
  },
  {
   "cell_type": "code",
   "execution_count": 12,
   "metadata": {},
   "outputs": [
    {
     "name": "stdout",
     "output_type": "stream",
     "text": [
      "Initialized heatmap\n"
     ]
    },
    {
     "data": {
      "image/png": "[encoded data removed]",
      "text/plain": [
       "<Figure size 432x288 with 2 Axes>"
      ]
     },
     "metadata": {
      "needs_background": "light"
     },
     "output_type": "display_data"
    },
    {
     "name": "stdout",
     "output_type": "stream",
     "text": [
      "Most common words from topic group #25\n",
      "jennings, edward, soon, last, would, think, suppose, must, upon, entirely, \n",
      "\n",
      "Most common words from topic group #22\n",
      "place, return, reason, going, willoughby, often, carriage, many, matter, quite, \n",
      "\n"
     ]
    }
   ],
   "source": [
    "K = 50\n",
    "V = len(set(austen_list))\n",
    "D = len(docs)\n",
    "alpha = 0.1\n",
    "beta = alpha\n",
    "\n",
    "# for printing a number of words from randomly chosen topics (to compare before and after)\n",
    "topic_groups_to_print = np.random.randint(0, K, 2)\n",
    "number_words_to_print = 10\n",
    "\n",
    "z_d_ld = [] # word-topic assignment (size = # documents x len(document i)), topic<-z\n",
    "n_d_k = np.zeros((D, K)) + alpha # word counts by document and topic\n",
    "n_k_v = np.zeros((K, V)) + beta # word counts by topic and word2int\n",
    "n_k = np.zeros(K) + V*beta # word counts by topic\n",
    "for i_doc, doc in enumerate(docs):\n",
    "    z_n = []\n",
    "    for word in doc:\n",
    "        p_z = n_k_v[:, word2int[word]] * n_d_k[i_doc] / n_k     # probability dist'n of topics\n",
    "        z = np.random.multinomial(1, p_z / p_z.sum()).argmax()  # randomly sampled topic\n",
    "        \n",
    "        # increment this topic\n",
    "        z_n.append(z)\n",
    "        n_d_k[i_doc, z] += 1\n",
    "        n_k_v[z, word2int[word]] += 1\n",
    "        n_k[z] += 1\n",
    "    z_d_ld.append(np.array(z_n))\n",
    "    \n",
    "print('Initialized heatmap')\n",
    "heatmap_by_topic_doc(z_d_ld, K, D)\n",
    "\n",
    "for group_id in topic_groups_to_print:\n",
    "    print('Most common words from topic group #' + str(group_id))\n",
    "    ids = (-n_k_v[group_id, :]).argsort()[:number_words_to_print]\n",
    "    for idd in ids:\n",
    "        print(int2word[idd],end=', ')\n",
    "    print('\\n')"
   ]
  },
  {
   "cell_type": "markdown",
   "metadata": {},
   "source": [
    "#### [1.33b] Iteration ($\\alpha$=$\\beta$=0.1, $K$=50)"
   ]
  },
  {
   "cell_type": "code",
   "execution_count": 13,
   "metadata": {},
   "outputs": [
    {
     "data": {
      "image/png": "[encoded data removed]",
      "text/plain": [
       "<Figure size 432x288 with 2 Axes>"
      ]
     },
     "metadata": {
      "needs_background": "light"
     },
     "output_type": "display_data"
    },
    {
     "name": "stdout",
     "output_type": "stream",
     "text": [
      "Most common words from topic group #25\n",
      "would, friend, though, barton, hour, might, within, every, week, entirely, \n",
      "\n",
      "Most common words from topic group #22\n",
      "passed, invitation, help, part, perfectly, time, broken, honour, future, explained, \n",
      "\n"
     ]
    }
   ],
   "source": [
    "num_iter = 100\n",
    "for i in range(num_iter):\n",
    "    for i_doc, doc in enumerate(docs):\n",
    "        for i_word, word in enumerate(doc):\n",
    "            z = z_d_ld[i_doc][i_word]\n",
    "            # decrement this topic\n",
    "            n_d_k[i_doc, z] -= 1\n",
    "            n_k_v[z, word2int[word]] -= 1\n",
    "            n_k[z] -= 1\n",
    "            \n",
    "            # draw new topic\n",
    "            p_z = n_d_k[i_doc] * n_k_v[:, word2int[word]] / n_k\n",
    "            new_z = np.random.multinomial(1, p_z / p_z.sum()).argmax()\n",
    "            \n",
    "            # increment new topic\n",
    "            z_d_ld[i_doc][i_word] = new_z\n",
    "            n_d_k[i_doc, new_z] += 1\n",
    "            n_k_v[new_z, word2int[word]] += 1\n",
    "            n_k[new_z] += 1\n",
    "    print('Iteration #', i)\n",
    "    clear_output(wait=True)\n",
    "    \n",
    "heatmap_by_topic_doc(z_d_ld, K, D)\n",
    "for group_id in topic_groups_to_print:\n",
    "    print('Most common words from topic group #' + str(group_id))\n",
    "    ids = (-n_k_v[group_id, :]).argsort()[:number_words_to_print]\n",
    "    for idd in ids:\n",
    "        print(int2word[idd],end=', ')\n",
    "    print('\\n')"
   ]
  },
  {
   "cell_type": "markdown",
   "metadata": {},
   "source": [
    "### [1.34] Discussion\n",
    "We have not read the book. It is a fictional novel and from what we can tell, the language doesn't differ from chapter to chapter much outside of locations which are sparsely mentioned.\n",
    "\n",
    "For $K=10$, we are curious why the topics seem to overlap so much. We note that parts of speech seem to be relatively consistent within groups, however.\n",
    "\n",
    "Overall it is hard to say much about the validity of the topics given our lack of context about the text."
   ]
  },
  {
   "cell_type": "markdown",
   "metadata": {},
   "source": [
    "## [1.4] Hidden Markov Topic Model"
   ]
  },
  {
   "cell_type": "code",
   "execution_count": 30,
   "metadata": {},
   "outputs": [],
   "source": [
    "K = 50\n",
    "V = len(set(austen_list))\n",
    "D = len(docs)\n",
    "alpha = 0.1\n",
    "beta = alpha\n",
    "gamma = 1\n",
    "delta = 1\n",
    "rho = 1"
   ]
  },
  {
   "cell_type": "markdown",
   "metadata": {},
   "source": [
    "### [1.41] Initialization"
   ]
  },
  {
   "cell_type": "code",
   "execution_count": 29,
   "metadata": {},
   "outputs": [],
   "source": [
    "n_d_k_k = np.zeros((D, K, K)) # counts of transition in document from one topic to another\n",
    "s_k = np.zeros(K) # number of documents that start with each topic\n",
    "\n",
    "theta_d_k_k = np.zeros((D, K, K)) + alpha + delta * np.reshape(np.dstack([np.identity(K)]*D), (D,K,K))\n",
    "\n",
    "z_d_ld = [] # word-topic assignment (size = # documents x len(document i)), topic<-z\n",
    "n_d_k = np.zeros((D, K)) + alpha # word counts by document and topic\n",
    "n_k_v = np.zeros((K, V)) + beta # word counts by topic and word2int\n",
    "n_k = np.zeros(K) + V*beta # word counts by topic\n",
    "for i_doc, doc in enumerate(docs):\n",
    "    z_n = []\n",
    "    for word in doc:\n",
    "        p_z = n_k_v[:, word2int[word]] * n_d_k[i_doc] / n_k     # probability dist'n of topics\n",
    "        z = np.random.multinomial(1, p_z / p_z.sum()).argmax()  # randomly sampled topic\n",
    "        \n",
    "        # increment this topic\n",
    "        z_n.append(z)\n",
    "        n_d_k[i_doc, z] += 1\n",
    "        n_k_v[z, word2int[word]] += 1\n",
    "        n_k[z] += 1\n",
    "    z_d_ld.append(np.array(z_n))\n",
    "    \n",
    "for i in range(len(z_d_ld)):\n",
    "    s_k[z_d_ld[i][0]] += 1\n",
    "    for j in range(1, len(z_d_ld[i])):\n",
    "        n_d_k_k[i, z_d_ld[i][j-1], z_d_ld[i][j]] += 1"
   ]
  },
  {
   "cell_type": "markdown",
   "metadata": {},
   "source": [
    "### [1.42] Iteration"
   ]
  },
  {
   "cell_type": "code",
   "execution_count": 28,
   "metadata": {},
   "outputs": [
    {
     "data": {
      "text/plain": [
       "(49, 50, 50)"
      ]
     },
     "execution_count": 28,
     "metadata": {},
     "output_type": "execute_result"
    }
   ],
   "source": [
    "num_iter = 1\n",
    "for i in range(num_iter):\n",
    "    for i_doc, doc in enumerate(docs):\n",
    "        for i_word, word in enumerate(doc):\n",
    "            z_this = z_d_ld[i_doc][i_word]\n",
    "            if i_word == 0: # this is the first word in the doc\n",
    "                i_next = i_word + 1\n",
    "                z_next = z_d_ld[i_doc][i_next]\n",
    "                if z_this == z_next: # this word's topic is the same as the next\n",
    "                    #\n",
    "                else:\n",
    "                    n_k_v[:, i_word] * theta_d_k_k[i_doc, z_this, z_next] * rho * s_k[z_this] \\\n",
    "                    / (n_k[z_this] * \n",
    "            elif i_word == len(doc)-1: # this is the last word in the doc\n",
    "                i_last = i_word - 1\n",
    "                z_last = z_d_ld[i_doc][i_last]\n",
    "                if z_this == z_last: # this word's topics is the same as the last\n",
    "                    #\n",
    "                else:\n",
    "                    #\n",
    "            else:\n",
    "                i_next = i_word + 1\n",
    "                i_last = i_word - 1\n",
    "                z_next = z_d_ld[i_doc][i_next]\n",
    "                z_last = z_d_ld[i_doc][i_last]\n",
    "                if z_last != z_this and z_this != z_next: # this topic is different from the next and last\n",
    "                    #\n",
    "                elif z_last != z_this and z_this == z_next: # this topic is the same as the next\n",
    "                    #\n",
    "                elif z_last == z_this and z_this != z_next: # this topic is the same as the last\n",
    "                    #\n",
    "                else:\n",
    "                    #\n",
    "            \n",
    "            # decrement this topic\n",
    "#             n_d_k[i_doc, z] -= 1\n",
    "#             n_k_v[z, word2int[word]] -= 1\n",
    "#             n_k[z] -= 1\n",
    "            \n",
    "#             # draw new topic\n",
    "#             p_z = n_d_k[i_doc] * n_k_v[:, word2int[word]] / n_k\n",
    "#             new_z = np.random.multinomial(1, p_z / p_z.sum()).argmax()\n",
    "            \n",
    "#             # increment new topic\n",
    "#             z_d_ld[i_doc][i_word] = new_z\n",
    "#             n_d_k[i_doc, new_z] += 1\n",
    "#             n_k_v[new_z, word2int[word]] += 1\n",
    "#             n_k[new_z] += 1\n",
    "#     print('Iteration #', i)\n",
    "#     clear_output(wait=True)"
   ]
  },
  {
   "cell_type": "markdown",
   "metadata": {},
   "source": [
    "### [1.43] Discussion\n",
    "We have identified the different cases for the Markov topic transitions, but ran out of time implementing the updation."
   ]
  }
 ],
 "metadata": {
  "kernelspec": {
   "display_name": "Python 3",
   "language": "python",
   "name": "python3"
  },
  "language_info": {
   "codemirror_mode": {
    "name": "ipython",
    "version": 3
   },
   "file_extension": ".py",
   "mimetype": "text/x-python",
   "name": "python",
   "nbconvert_exporter": "python",
   "pygments_lexer": "ipython3",
   "version": "3.8.3"
  }
 },
 "nbformat": 4,
 "nbformat_minor": 4
}
