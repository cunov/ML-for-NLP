{
 "cells": [
  {
   "cell_type": "markdown",
   "metadata": {},
   "source": [
    "#TODO\n",
    "* remove very uncommon (<10) words"
   ]
  },
  {
   "cell_type": "code",
   "execution_count": 2,
   "metadata": {},
   "outputs": [],
   "source": [
    "import nltk\n",
    "from nltk.tokenize import RegexpTokenizer\n",
    "from nltk.stem import WordNetLemmatizer\n",
    "import numpy as np\n",
    "from collections import Counter, defaultdict\n",
    "import sys\n",
    "import seaborn as sns\n",
    "import matplotlib.pyplot as plt\n",
    "from IPython.display import clear_output\n",
    "from nltk.corpus import stopwords\n",
    "\n",
    "# nltk.download('wordnet')\n",
    "# nltk.download('stopwords')"
   ]
  },
  {
   "cell_type": "code",
   "execution_count": 3,
   "metadata": {},
   "outputs": [],
   "source": [
    "austen = nltk.corpus.gutenberg.words('austen-sense.txt')"
   ]
  },
  {
   "cell_type": "code",
   "execution_count": 4,
   "metadata": {},
   "outputs": [],
   "source": [
    "def heatmap_by_topic_doc(z_m_n, K, D):\n",
    "## Generate a heatmap where x-axis is Document, y-axis is Topic, and value is frequency of assigned words\n",
    "    distn = np.zeros((D, K))\n",
    "    for i in range(len(z_m_n)):\n",
    "        cnt = Counter()\n",
    "        for j in range(len(z_m_n[i])):\n",
    "            cnt[z_m_n[i][j]] += 1\n",
    "\n",
    "        doc_len = len(z_m_n[i])\n",
    "        for k in range(K):\n",
    "            distn[i,k] = cnt.get(k,0) / doc_len\n",
    "\n",
    "    sns.heatmap(distn.T,cmap='Greys', vmin=0, vmax=1)\n",
    "    plt.xlabel('Document')\n",
    "    plt.ylabel('Topic')\n",
    "    plt.show()"
   ]
  },
  {
   "cell_type": "markdown",
   "metadata": {},
   "source": [
    "# Using Jane Austen's **Sense**\n",
    "## [1] Preprocessing\n",
    "* Remove all non-words\n",
    "* Remove all stop words\n",
    "* Lowercase and lemmatize\n",
    "* Remove words with <=10 occurrences"
   ]
  },
  {
   "cell_type": "code",
   "execution_count": 5,
   "metadata": {},
   "outputs": [],
   "source": [
    "lemmatizer = WordNetLemmatizer()\n",
    "austen = [word for word in austen if word.isalpha()]\n",
    "\n",
    "austen = [word.lower() for word in austen]\n",
    "austen = [word for word in austen if not word in stopwords.words('english')] # remove stop words\n",
    "austen = [lemmatizer.lemmatize(word) for word in austen]\n",
    "\n",
    "austen_list = austen"
   ]
  },
  {
   "cell_type": "markdown",
   "metadata": {},
   "source": [
    "### [1.1] Word-to-Int mapping"
   ]
  },
  {
   "cell_type": "code",
   "execution_count": 6,
   "metadata": {},
   "outputs": [],
   "source": [
    "freqs = Counter()\n",
    "for token in austen_list:\n",
    "    freqs[token] += 1                                 # freqs is dict(), i.e. freqs[word] = count\n",
    "freqs = freqs.most_common()                   # now freqs is tuple of (word, count)\n",
    "words_to_drop = [k for k,v in freqs if v<10]\n",
    "\n",
    "word2int = {freqs[i][0]:i for i in range(len(freqs)) if not freqs[i][0] in words_to_drop}  # mapping is dict of freqs[word]=r where r=rank\n",
    "int2word = {v:k for k,v in word2int.items()}\n",
    "\n",
    "austen_list = [word for word in austen_list if not word in words_to_drop]\n",
    "\n",
    "freqs = Counter()\n",
    "for token in austen_list:\n",
    "    freqs[token] += 1\n",
    "freqs = freqs.most_common()"
   ]
  },
  {
   "cell_type": "markdown",
   "metadata": {},
   "source": [
    "### [1.2] Split the corpus into documents on the word \"chapter\""
   ]
  },
  {
   "cell_type": "code",
   "execution_count": 7,
   "metadata": {},
   "outputs": [
    {
     "name": "stdout",
     "output_type": "stream",
     "text": [
      "Total number of tokens: 41212\n",
      "Number of unique tokens: 1060\n",
      "Number of documents: 49\n"
     ]
    }
   ],
   "source": [
    "docs = []\n",
    "start = 0\n",
    "i = 0\n",
    "while i < len(austen_list):\n",
    "    if austen_list[i] == 'chapter':\n",
    "        docs.append(austen_list[start:i-1])\n",
    "        start = i + 1\n",
    "    i += 1\n",
    "    \n",
    "docs = docs[1:]                  # the first doc is very short, throw it out\n",
    "N_W = sum(len(doc) for doc in docs)\n",
    "N_W_unique = len(set(austen_list))\n",
    "N_D = len(docs)\n",
    "print('Total number of tokens: ' + str(N_W))\n",
    "print('Number of unique tokens: ' + str(N_W_unique))\n",
    "print('Number of documents: ' + str(N_D))"
   ]
  },
  {
   "cell_type": "markdown",
   "metadata": {},
   "source": [
    "### [1.3] Collapsed Gibbs Sampling"
   ]
  },
  {
   "cell_type": "code",
   "execution_count": 10,
   "metadata": {},
   "outputs": [],
   "source": [
    "K = 10\n",
    "V = len(set(austen_list))\n",
    "D = len(docs)\n",
    "alpha = 0.1\n",
    "beta = alpha\n",
    "\n",
    "# for printing a number of words from randomly chosen topics (to compare before and after)\n",
    "topic_groups_to_print = np.random.randint(0, K, 2)\n",
    "number_words_to_print = 10"
   ]
  },
  {
   "cell_type": "markdown",
   "metadata": {},
   "source": [
    "#### [1.31] Initialization"
   ]
  },
  {
   "cell_type": "code",
   "execution_count": 19,
   "metadata": {},
   "outputs": [
    {
     "name": "stdout",
     "output_type": "stream",
     "text": [
      "Initialized heatmap\n"
     ]
    },
    {
     "data": {
      "image/png": "[encoded data removed]",
      "text/plain": [
       "<Figure size 432x288 with 2 Axes>"
      ]
     },
     "metadata": {
      "needs_background": "light"
     },
     "output_type": "display_data"
    },
    {
     "name": "stdout",
     "output_type": "stream",
     "text": [
      "Most common words from topic group #1\n",
      "marianne, heart, every, moment, barton, still, subject, love, told, engagement, \n",
      "\n",
      "Most common words from topic group #3\n",
      "said, miss, go, brandon, come, say, saw, jennings, quite, tell, \n",
      "\n"
     ]
    }
   ],
   "source": [
    "z_d_ld = [] # word-topic assignment (size = # documents x len(document i)), topic<-z\n",
    "n_d_k = np.zeros((D, K)) + alpha # word counts by document and topic\n",
    "n_k_v = np.zeros((K, V)) + beta # word counts by topic and word2int\n",
    "n_k = np.zeros(K) + V*beta # word counts by topic\n",
    "for i_doc, doc in enumerate(docs):\n",
    "    z_n = []\n",
    "    for word in doc:\n",
    "        p_z = n_k_v[:, word2int[word]] * n_d_k[i_doc] / n_k     # probability dist'n of topics\n",
    "        z = np.random.multinomial(1, p_z / p_z.sum()).argmax()  # randomly sampled topic\n",
    "        \n",
    "        # increment this topic\n",
    "        z_n.append(z)\n",
    "        n_d_k[i_doc, z] += 1\n",
    "        n_k_v[z, word2int[word]] += 1\n",
    "        n_k[z] += 1\n",
    "    z_d_ld.append(np.array(z_n))\n",
    "    \n",
    "print('Initialized heatmap')\n",
    "heatmap_by_topic_doc(z_d_ld, K, D)\n",
    "\n",
    "for group_id in topic_groups_to_print:\n",
    "    print('Most common words from topic group #' + str(group_id))\n",
    "    ids = (-n_k_v[group_id, :]).argsort()[:number_words_to_print]\n",
    "    for idd in ids:\n",
    "        print(int2word[idd],end=', ')\n",
    "    print('\\n')"
   ]
  },
  {
   "cell_type": "markdown",
   "metadata": {},
   "source": [
    "#### [1.32] Iteration"
   ]
  },
  {
   "cell_type": "code",
   "execution_count": 21,
   "metadata": {},
   "outputs": [
    {
     "data": {
      "image/png": "[encoded data removed]",
      "text/plain": [
       "<Figure size 432x288 with 2 Axes>"
      ]
     },
     "metadata": {
      "needs_background": "light"
     },
     "output_type": "display_data"
    },
    {
     "name": "stdout",
     "output_type": "stream",
     "text": [
      "Most common words from topic group #1\n",
      "sister, letter, though, ever, moment, hope, heart, mother, speak, made, \n",
      "\n",
      "Most common words from topic group #3\n",
      "mr, said, know, thing, miss, well, sure, dear, sister, tell, \n",
      "\n"
     ]
    }
   ],
   "source": [
    "num_iter = 100\n",
    "for i in range(num_iter):\n",
    "    for i_doc, doc in enumerate(docs):\n",
    "        for i_word, word in enumerate(doc):\n",
    "            z = z_d_ld[i_doc][i_word]\n",
    "            # decrement this topic\n",
    "            n_d_k[i_doc, z] -= 1\n",
    "            n_k_v[z, word2int[word]] -= 1\n",
    "            n_k[z] -= 1\n",
    "            \n",
    "            # draw new topic\n",
    "            p_z = n_d_k[i_doc] * n_k_v[:, word2int[word]] / n_k\n",
    "            new_z = np.random.multinomial(1, p_z / p_z.sum()).argmax()\n",
    "            \n",
    "            # increment new topic\n",
    "            z_d_ld[i_doc][i_word] = new_z\n",
    "            n_d_k[i_doc, new_z] += 1\n",
    "            n_k_v[new_z, word2int[word]] += 1\n",
    "            n_k[new_z] += 1\n",
    "    print('Iteration #', i)\n",
    "    clear_output(wait=True)\n",
    "    \n",
    "heatmap_by_topic_doc(z_d_ld, K, D)\n",
    "for group_id in topic_groups_to_print:\n",
    "    print('Most common words from topic group #' + str(group_id))\n",
    "    ids = (-n_k_v[group_id, :]).argsort()[:number_words_to_print]\n",
    "    for idd in ids:\n",
    "        print(int2word[idd],end=', ')\n",
    "    print('\\n')"
   ]
  },
  {
   "cell_type": "markdown",
   "metadata": {},
   "source": [
    "### [2] Hidden Markov Topic Model"
   ]
  },
  {
   "cell_type": "code",
   "execution_count": null,
   "metadata": {},
   "outputs": [],
   "source": []
  },
  {
   "cell_type": "code",
   "execution_count": null,
   "metadata": {},
   "outputs": [],
   "source": []
  }
 ],
 "metadata": {
  "kernelspec": {
   "display_name": "Python 3",
   "language": "python",
   "name": "python3"
  },
  "language_info": {
   "codemirror_mode": {
    "name": "ipython",
    "version": 3
   },
   "file_extension": ".py",
   "mimetype": "text/x-python",
   "name": "python",
   "nbconvert_exporter": "python",
   "pygments_lexer": "ipython3",
   "version": "3.8.3"
  }
 },
 "nbformat": 4,
 "nbformat_minor": 4
}
