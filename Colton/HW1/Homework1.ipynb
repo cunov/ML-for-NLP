{
 "cells": [
  {
   "cell_type": "code",
   "execution_count": 159,
   "id": "f6297402-2d90-4c6b-9203-42cd92a99105",
   "metadata": {},
   "outputs": [],
   "source": [
    "import spacy\n",
    "from collections import Counter, defaultdict\n",
    "from matplotlib import pyplot as plt\n",
    "import torch"
   ]
  },
  {
   "cell_type": "markdown",
   "id": "7b997727-33b6-48b4-8273-66d3454f106d",
   "metadata": {},
   "source": [
    "### Warmup: computing word frequencies\n",
    "#### Most frequent words"
   ]
  },
  {
   "cell_type": "code",
   "execution_count": 152,
   "id": "54d262fd-a846-4d2f-98f6-dcfe4285ba6f",
   "metadata": {},
   "outputs": [],
   "source": [
    "file_names = ['books.txt','europarl.txt','wikipedia.txt']\n",
    "encodings = ['ISO-8859-1','utf-8','utf-8']\n",
    "base_dir = 'C:/Users/Colton/OneDrive/School/Machine Learning for Natural Language Processing/HW_1/a1_data/'"
   ]
  },
  {
   "cell_type": "code",
   "execution_count": 69,
   "id": "f094fd9b-60b4-40a3-a5f4-916ca986c93f",
   "metadata": {},
   "outputs": [],
   "source": [
    "def get_frequency_counter(file_name,encoding):\n",
    "    freqs = Counter()\n",
    "    with open(base_dir + file_name, encoding = encoding) as f:\n",
    "        for line in f:\n",
    "            tokens = line.lower().split()\n",
    "            for token in tokens:\n",
    "                freqs[token] += 1\n",
    "    return freqs"
   ]
  },
  {
   "cell_type": "code",
   "execution_count": 70,
   "id": "4b3404c1-c584-4482-8e9d-a3494231d800",
   "metadata": {
    "collapsed": true,
    "jupyter": {
     "outputs_hidden": true
    },
    "tags": []
   },
   "outputs": [
    {
     "name": "stdout",
     "output_type": "stream",
     "text": [
      "--------------books.txt-------------\n",
      "the\t2425678\n",
      ",\t2064433\n",
      ".\t1958494\n",
      "and\t1367843\n",
      "of\t1321821\n",
      "to\t1159024\n",
      "a\t1103939\n",
      "is\t792900\n",
      "in\t739009\n",
      "i\t704436\n",
      "--------------europarl.txt-------------\n",
      "the\t3003965\n",
      ",\t2115604\n",
      ".\t1536632\n",
      "of\t1422333\n",
      "to\t1341441\n",
      "and\t1158234\n",
      "in\t945160\n",
      "that\t732156\n",
      "a\t674231\n",
      "is\t671969\n",
      "--------------wikipedia.txt-------------\n",
      "the\t3158463\n",
      ",\t2566261\n",
      ".\t1956600\n",
      "of\t1534698\n",
      "and\t1260516\n",
      "in\t1205759\n",
      "a\t958283\n",
      "to\t926287\n",
      "-\t548244\n",
      "is\t522101\n"
     ]
    }
   ],
   "source": [
    "freqs = {}\n",
    "for i in range(len(file_names)):\n",
    "    file_name = file_names[i]\n",
    "    encoding = encodings[i]\n",
    "    freqs[file_name] = get_frequency_counter(file_name, encoding)\n",
    "    print('--------------' + file_name + '-------------')\n",
    "    for word, freq in freqs[file_name].most_common(10):\n",
    "        print(word + '\\t' + str(freq))"
   ]
  },
  {
   "cell_type": "markdown",
   "id": "92d02d5a-f183-4bc3-a19d-defcd086c9bd",
   "metadata": {},
   "source": [
    "#### dictionary-within-dictionary"
   ]
  },
  {
   "cell_type": "code",
   "execution_count": 31,
   "id": "f85a1e14-52e2-478e-b302-c45c72434f3b",
   "metadata": {},
   "outputs": [
    {
     "name": "stdout",
     "output_type": "stream",
     "text": [
      "books.txt\tsox\t198\n",
      "europarl.txt\ttape\t856\n",
      "wikipedia.txt\t,\t532\n"
     ]
    }
   ],
   "source": [
    "print('Most common words following \"red\"')\n",
    "for i in range(len(file_names)):\n",
    "    file_name = file_names[i]\n",
    "    encoding = encodings[i]\n",
    "    freqs = defaultdict(Counter)\n",
    "    with open(base_dir+file_name, encoding=encoding) as f:\n",
    "        for line in f:\n",
    "            tokens = line.lower().split()\n",
    "            for t1, t2 in zip(tokens, tokens[1:]):\n",
    "                freqs[t1][t2] += 1\n",
    "    word = freqs['red'].most_common(1)[0][0]\n",
    "    freq = freqs['red'].most_common(1)[0][1]\n",
    "    print(file_name + ':\\t' + word + '\\t' + str(freq))"
   ]
  },
  {
   "cell_type": "markdown",
   "id": "285d9703-9c08-4282-a9bb-a201e8cb17f8",
   "metadata": {},
   "source": [
    "### Investigating the word frequency distribution\n",
    "Our reflection goes here"
   ]
  },
  {
   "cell_type": "code",
   "execution_count": 57,
   "id": "a6eee64e-49e3-48ab-8d58-ed51e5a95c14",
   "metadata": {},
   "outputs": [
    {
     "data": {
      "image/png": "[encoded data removed]",
      "text/plain": [
       "<Figure size 432x288 with 2 Axes>"
      ]
     },
     "metadata": {
      "needs_background": "light"
     },
     "output_type": "display_data"
    }
   ],
   "source": [
    "word_freqs = []\n",
    "plt.subplot(121)\n",
    "for i in range(len(file_names)):\n",
    "    file_name = file_names[i]\n",
    "    word_freqs.append([x[1] for x in freqs[file_name].most_common(100)])\n",
    "    plt.plot(word_freqs[i],label=file_name[:-4])\n",
    "plt.legend()\n",
    "plt.title('Linear')\n",
    "\n",
    "plt.subplot(122)\n",
    "for i in range(len(word_freqs)):\n",
    "    plt.loglog(word_freqs[i],label=file_names[i][:-4])\n",
    "plt.legend()\n",
    "plt.title('Log-Log')\n",
    "plt.show()"
   ]
  },
  {
   "cell_type": "markdown",
   "id": "9c059678-77fb-48fb-a323-6cfb32c9e0e8",
   "metadata": {},
   "source": [
    "### Comparing corpora"
   ]
  },
  {
   "cell_type": "code",
   "execution_count": 90,
   "id": "808b1634-56eb-446a-ba17-8d3602504df9",
   "metadata": {
    "collapsed": true,
    "jupyter": {
     "outputs_hidden": true
    },
    "tags": []
   },
   "outputs": [
    {
     "name": "stdout",
     "output_type": "stream",
     "text": [
      "Top 10 words from \"books.txt\" (first) and their relative frequency in \"europarl.txt\" (second):\n",
      "WORD\tFREQ\tFREQ\n",
      "the\t4.9%\t6.84%\n",
      ",\t4.17%\t4.82%\n",
      ".\t3.96%\t3.5%\n",
      "and\t2.76%\t2.64%\n",
      "of\t2.67%\t3.24%\n",
      "to\t2.34%\t3.06%\n",
      "a\t2.23%\t1.54%\n",
      "is\t1.6%\t1.53%\n",
      "in\t1.49%\t2.15%\n",
      "i\t1.42%\t1.0%\n",
      "Top 10 words from \"books.txt\" (first) and their relative frequency in \"wikipedia.txt\" (second):\n",
      "WORD\tFREQ\tFREQ\n",
      "the\t4.9%\t6.2%\n",
      ",\t4.17%\t5.03%\n",
      ".\t3.96%\t3.84%\n",
      "and\t2.76%\t2.47%\n",
      "of\t2.67%\t3.01%\n",
      "to\t2.34%\t1.82%\n",
      "a\t2.23%\t1.88%\n",
      "is\t1.6%\t1.02%\n",
      "in\t1.49%\t2.37%\n",
      "i\t1.42%\t0.06%\n",
      "Top 10 words from \"europarl.txt\" (first) and their relative frequency in \"books.txt\" (second):\n",
      "WORD\tFREQ\tFREQ\n",
      "the\t6.84%\t4.9%\n",
      ",\t4.82%\t4.17%\n",
      ".\t3.5%\t3.96%\n",
      "of\t3.24%\t2.67%\n",
      "to\t3.06%\t2.34%\n",
      "and\t2.64%\t2.76%\n",
      "in\t2.15%\t1.49%\n",
      "that\t1.67%\t1.12%\n",
      "a\t1.54%\t2.23%\n",
      "is\t1.53%\t1.6%\n",
      "Top 10 words from \"europarl.txt\" (first) and their relative frequency in \"wikipedia.txt\" (second):\n",
      "WORD\tFREQ\tFREQ\n",
      "the\t6.84%\t6.2%\n",
      ",\t4.82%\t5.03%\n",
      ".\t3.5%\t3.84%\n",
      "of\t3.24%\t3.01%\n",
      "to\t3.06%\t1.82%\n",
      "and\t2.64%\t2.47%\n",
      "in\t2.15%\t2.37%\n",
      "that\t1.67%\t0.52%\n",
      "a\t1.54%\t1.88%\n",
      "is\t1.53%\t1.02%\n",
      "Top 10 words from \"wikipedia.txt\" (first) and their relative frequency in \"books.txt\" (second):\n",
      "WORD\tFREQ\tFREQ\n",
      "the\t6.2%\t4.9%\n",
      ",\t5.03%\t4.17%\n",
      ".\t3.84%\t3.96%\n",
      "of\t3.01%\t2.67%\n",
      "and\t2.47%\t2.76%\n",
      "in\t2.37%\t1.49%\n",
      "a\t1.88%\t2.23%\n",
      "to\t1.82%\t2.34%\n",
      "-\t1.08%\t0.25%\n",
      "is\t1.02%\t1.6%\n",
      "Top 10 words from \"wikipedia.txt\" (first) and their relative frequency in \"europarl.txt\" (second):\n",
      "WORD\tFREQ\tFREQ\n",
      "the\t6.2%\t6.84%\n",
      ",\t5.03%\t4.82%\n",
      ".\t3.84%\t3.5%\n",
      "of\t3.01%\t3.24%\n",
      "and\t2.47%\t2.64%\n",
      "in\t2.37%\t2.15%\n",
      "a\t1.88%\t1.54%\n",
      "to\t1.82%\t3.06%\n",
      "-\t1.08%\t0.0%\n",
      "is\t1.02%\t1.53%\n"
     ]
    }
   ],
   "source": [
    "# freqs = {}\n",
    "# for i in range(len(file_names)):\n",
    "#     freqs[i] = get_frequency_counter(file_names[i], encodings[i])\n",
    "for i in range(len(file_names)):\n",
    "    file_name_1 = file_names[i]\n",
    "    for j in range(len(file_names)):\n",
    "        file_name_2 = file_names[j]\n",
    "        if file_name_1 == file_name_2:\n",
    "            continue\n",
    "        print('Top 10 words from \"' + file_name_1 + '\" (first) and their relative frequency in \"' + file_name_2 + '\" (second):')\n",
    "        print('WORD\\tFREQ\\tFREQ')\n",
    "        top_10_counter = freqs[file_name_1].most_common(10)\n",
    "        top_10_words = [x[0] for x in top_10_counter]\n",
    "        relative_freq_1 = [x[1] / sum(freqs[file_name_1].values()) for x in top_10_counter]\n",
    "        relative_freq_2 = []\n",
    "        for word in top_10_words:\n",
    "            relative_freq_2.append(freqs[file_name_2][word] / sum(freqs[file_name_2].values()))\n",
    "        for i in range(len(top_10_words)):\n",
    "            print(top_10_words[i] + '\\t' + str(round(100*relative_freq_1[i],2)) + '%\\t' + str(round(100*relative_freq_2[i],2)) + '%')\n",
    "                    "
   ]
  },
  {
   "cell_type": "markdown",
   "id": "cb05f796-d4c2-4094-9fe8-422da9769795",
   "metadata": {},
   "source": [
    "### Side show: preprocessing text for machine learning"
   ]
  },
  {
   "cell_type": "code",
   "execution_count": 204,
   "id": "330db9e5-bfdb-4122-b3e9-c9f5e29edb83",
   "metadata": {
    "collapsed": true,
    "jupyter": {
     "outputs_hidden": true
    },
    "tags": []
   },
   "outputs": [
    {
     "name": "stdout",
     "output_type": "stream",
     "text": [
      "{'the': 1, ',': 2, '.': 3, 'and': 4, 'of': 5, 'to': 6, 'a': 7, 'is': 8, 'in': 9, 'i': 10, 'this': 11, 'it': 12, 'that': 13, 'book': 14, '\"': 15, 'for': 16, \"'s\": 17, 'as': 18, 'with': 19, 'you': 20, 'was': 21, 'on': 22, 'are': 23, 'but': 24, 'not': 25, 'his': 26, 'have': 27, 'he': 28, 'be': 29, 'one': 30, 'an': 31, 'read': 32, ')': 33, 'by': 34, '(': 35, 'from': 36, 'all': 37, 'about': 38, \"n't\": 39, 'or': 40, 'at': 41, 'who': 42, 'my': 43, 'has': 44, 'her': 45, 'what': 46, '-': 47, 'if': 48, 'more': 49, 'so': 50, 'they': 51, '!': 52, 'do': 53, 'there': 54, 'will': 55, 'how': 56, 'very': 57, 'like': 58, 'their': 59, 'would': 60, 'can': 61, 'some': 62, 'she': 63, 'we': 64, 'out': 65, 'which': 66, 'when': 67, 'me': 68, 'just': 69, \"'\": 70, 'great': 71, 'story': 72, 'many': 73, 'good': 74, 'time': 75, 'other': 76, 'life': 77, 'books': 78, 'into': 79, 'also': 80, 'had': 81, 'up': 82, 'your': 83, 'only': 84, 'most': 85, ':': 86, 'well': 87, 'than': 88, '?': 89, 'people': 90, 'first': 91, 'much': 92, 'no': 93, 'reading': 94, 'does': 95, 'were': 96, 'even': 97, 'them': 98, 'been': 99, 'these': 100, 'way': 101, 'because': 102, 'get': 103, 'really': 104, ';': 105, 'did': 106, 'could': 107, 'its': 108, 'work': 109, 'author': 110, 'new': 111, 'world': 112, 'any': 113, 'through': 114, 'our': 115, 'those': 116, 'after': 117, 'then': 118, 'love': 119, 'know': 120, 'us': 121, 'think': 122, 'make': 123, 'years': 124, 'find': 125, 'own': 126, 'him': 127, 'such': 128, 'best': 129, 'should': 130, 'written': 131, 'while': 132, 'found': 133, 'history': 134, 'over': 135, 'being': 136, 'too': 137, 'little': 138, 'two': 139, 'novel': 140, 'characters': 141, '/': 142, 'see': 143, 'never': 144, 'now': 145, 'am': 146, 'reader': 147, \"'ve\": 148, 'want': 149, 'where': 150, 'each': 151, 'every': 152, 'still': 153, 'recommend': 154, 'writing': 155, 'both': 156, 'man': 157, 'may': 158, 'better': 159, 'things': 160, 'must': 161, 'why': 162, 'anyone': 163, 'information': 164, 'interesting': 165, 'back': 166, 'before': 167, 'down': 168, 'makes': 169, 'made': 170, 'few': 171, 'say': 172, 'however': 173, 'another': 174, 'here': 175, 'end': 176, 'use': 177, 'go': 178, 'real': 179, 'stories': 180, \"'m\": 181, 'ever': 182, 'something': 183, 'same': 184, 'different': 185, 'though': 186, 'lot': 187, 'take': 188, 'need': 189, 'war': 190, 'series': 191, 'between': 192, 'thought': 193, 'part': 194, 'without': 195, 'family': 196, 'understand': 197, 'old': 198, 'highly': 199, 'easy': 200, 'long': 201, 'help': 202, 'excellent': 203, 'always': 204, 'times': 205, 'put': 206, 'american': 207, 'give': 208, 'right': 209, 'character': 210, 'look': 211, 'again': 212, 'yet': 213, 'point': 214, 'since': 215, 'children': 216, 'feel': 217, 'going': 218, 'come': 219, 'day': 220, 'fact': 221, 'pages': 222, 'others': 223, 'chapter': 224, 'off': 225, 'god': 226, 'used': 227, 'human': 228, 'true': 229, 'women': 230, 'enough': 231, 'last': 232, 'might': 233, \"'re\": 234, 'rather': 235, 'wonderful': 236, 'far': 237, 'important': 238, 'quite': 239, 'around': 240, 'seems': 241, 'often': 242, 'young': 243, 'looking': 244, 'place': 245, 'learn': 246, 'actually': 247, \"'ll\": 248, 'thing': 249, 'especially': 250, 'although': 251, 'having': 252, 'almost': 253, 'person': 254, 'mind': 255, 'ca': 256, 'gives': 257, 'page': 258, 'hard': 259, 'got': 260, 'sense': 261, 'ideas': 262, 'readers': 263, 'believe': 264, 'works': 265, 'style': 266, 'once': 267, 'everything': 268, 'course': 269, 'job': 270, 'bit': 271, 'several': 272, 'three': 273, 'done': 274, 'worth': 275, 'short': 276, 'business': 277, 'year': 278, 'experience': 279, 'keep': 280, 'school': 281, 'someone': 282, 'nothing': 283, 'text': 284, 'away': 285, 'authors': 286, 'buy': 287, 'said': 288, 'lives': 289, 'men': 290, 'today': 291, 'become': 292, 'words': 293, 'interested': 294, 'home': 295, 'subject': 296, 'takes': 297, 'enjoyed': 298, 'plot': 299, 'next': 300, 'enjoy': 301, 'personal': 302, 'during': 303, 'money': 304, 'along': 305, 'able': 306, 'simply': 307, 'second': 308, 'woman': 309, 'bad': 310, '&': 311, 'himself': 312, 'everyone': 313, 'fun': 314, 'whole': 315, 'understanding': 316, 'loved': 317, 'mr.': 318, 'death': 319, 'example': 320, 'probably': 321, 'case': 322, 'less': 323, 'given': 324, 'clear': 325, 'full': 326, 'together': 327, 'political': 328, 'least': 329, 'writer': 330, 'sure': 331, 'friends': 332, 'anything': 333, 'myself': 334, 'making': 335, 'power': 336, 'simple': 337, 'big': 338, 'america': 339, 'against': 340, 'start': 341, 'modern': 342, 'comes': 343, 'until': 344, 'child': 345, 'truly': 346, 'instead': 347, 'art': 348, 'past': 349, 'perhaps': 350, 'high': 351, 'guide': 352, 'set': 353, 'idea': 354, 'view': 355, 'trying': 356, 'review': 357, 'already': 358, 'left': 359, 'early': 360, 'live': 361, 'shows': 362, 'small': 363, 'write': 364, 'goes': 365, 'language': 366, 'mother': 367, 'science': 368, \"'d\": 369, 'using': 370, 'father': 371, 'kind': 372, 'society': 373, 'john': 374, 'change': 375, 'main': 376, 'favorite': 377, 'seem': 378, 'chapters': 379, 'century': 380, 'later': 381, 'knowledge': 382, 'historical': 383, 'provides': 384, 'getting': 385, 'novels': 386, 'social': 387, 'try': 388, 'let': 389, 'problems': 390, 'tell': 391, 'thinking': 392, 'bought': 393, 'issues': 394, 'research': 395, 'within': 396, 'useful': 397, 'felt': 398, 'living': 399, 'order': 400, 'came': 401, 'problem': 402, 'age': 403, 'events': 404, 'ago': 405, 'show': 406, 'recommended': 407, 'culture': 408, 'itself': 409, 'ways': 410, 'friend': 411, 'reason': 412, 'doing': 413, 'beautiful': 414, 'heart': 415, 'edition': 416, 'based': 417, '2': 418, 'hope': 419, 'difficult': 420, 'cover': 421, 'gets': 422, 'certainly': 423, 'sometimes': 424, 'seen': 425, 'dr.': 426, 'interest': 427, 'nature': 428, 'helpful': 429, 'future': 430, 'play': 431, 'class': 432, 'various': 433, 'study': 434, 'recipes': 435, 'questions': 436, 'theory': 437, 'lost': 438, 'students': 439, 'collection': 440, 'fiction': 441, 'matter': 442, 'examples': 443, 'finally': 444, 'general': 445, 'black': 446, 'throughout': 447, 'days': 448, 'including': 449, 'themselves': 450, 'english': 451, 'etc.': 452, 'detail': 453, 'under': 454, 'else': 455, 'follow': 456, 'took': 457, 'major': 458, 'says': 459, 'country': 460, 'started': 461, 'truth': 462, 'wrong': 463, 'tells': 464, 'yourself': 465, 'beginning': 466, 'reference': 467, 'definitely': 468, 'movie': 469, 'points': 470, 'either': 471, 'perfect': 472, 'food': 473, 'cannot': 474, 'reviews': 475, 'whether': 476, 'word': 477, 'son': 478, 'process': 479, 'amazing': 480, 'house': 481, 'details': 482, 'pretty': 483, 'king': 484, 'side': 485, 'system': 486, 'title': 487, 'level': 488, 'wants': 489, 'told': 490, 'mystery': 491, 'liked': 492, 'christian': 493, 'wanted': 494, 'fan': 495, 'state': 496, 'kids': 497, 'fascinating': 498, 'stars': 499, 'states': 500, 'section': 501, 'relationship': 502, 'name': 503, 'clearly': 504, '`': 505, 'white': 506, 'gave': 507, 'action': 508, 'material': 509, 'upon': 510, 'went': 511, 'basic': 512, 'deal': 513, 'parents': 514, 'wrote': 515, 'working': 516, 'number': 517, 'wife': 518, 'care': 519, 'approach': 520, 'overall': 521, 'four': 522, 'light': 523, 'classic': 524, 'original': 525, 'needs': 526, 'known': 527, 'development': 528, 'published': 529, 'among': 530, 'literature': 531, 'funny': 532, 'nice': 533, 'writes': 534, 'called': 535, 'learning': 536, 'church': 537, 'pictures': 538, 'tale': 539, 'complete': 540, 'introduction': 541, 'question': 542, 'present': 543, 'wish': 544, 'library': 545, 'daughter': 546, 'form': 547, '3': 548, 'hand': 549, 'advice': 550, 'maybe': 551, 'perspective': 552, 'city': 553, 'entire': 554, 'girl': 555, 'line': 556, 'common': 557, 'volume': 558, 'behind': 559, 'insight': 560, 'learned': 561, 'means': 562, 'body': 563, 'taken': 564, '5': 565, 'version': 566, 'strong': 567, 'certain': 568, 'rest': 569, 'beyond': 570, 'knew': 571, 'bible': 572, 'possible': 573, 'government': 574, 'public': 575, 'copy': 576, 'completely': 577, 'covers': 578, 'wo': 579, 'particularly': 580, 'philosophy': 581, '1': 582, 'ending': 583, 'attention': 584, 'group': 585, 'easily': 586, 'particular': 587, 'parts': 588, 'taking': 589, 'knows': 590, 'extremely': 591, 'middle': 592, 'analysis': 593, 'turn': 594, 'five': 595, 'practical': 596, 'husband': 597, 'serious': 598, 'night': 599, 'game': 600, 'half': 601, 'college': 602, 'facts': 603, 'writers': 604, 'across': 605, 'value': 606, 'account': 607, 'large': 608, 'needed': 609, 'uses': 610, 'free': 611, 'student': 612, 'boy': 613, 'entertaining': 614, 'ones': 615, 'reality': 616, 'offers': 617, 'yes': 618, 'whose': 619, 'type': 620, 'complex': 621, 'detailed': 622, 'picture': 623, 'open': 624, 'period': 625, 'list': 626, 'humor': 627, 'helped': 628, '4': 629, 'becomes': 630, 'further': 631, 'terms': 632, 'stuff': 633, 'opinion': 634, 'religious': 635, 'despite': 636, 'became': 637, 'field': 638, 'alone': 639, 'current': 640, 'poor': 641, 'remember': 642, 'feeling': 643, 'jesus': 644, 'agree': 645, 'journey': 646, 'religion': 647, 'unique': 648, 'music': 649, 'powerful': 650, 'focus': 651, 'explains': 652, 'quality': 653, 'involved': 654, 'provide': 655, 'happy': 656, 'face': 657, 'third': 658, 'faith': 659, 'couple': 660, 'coming': 661, 'close': 662, 'soon': 663, 'rich': 664, 'deep': 665, 'experiences': 666, 'finds': 667, 'happened': 668, 'call': 669, 'fine': 670, 'giving': 671, 'presented': 672, 'james': 673, 'concepts': 674, 'mean': 675, 'military': 676, 'bring': 677, 'dead': 678, 'success': 679, 'single': 680, 'top': 681, 'plan': 682, 'techniques': 683, 'create': 684, 'background': 685, 'role': 686, 'gift': 687, 'indeed': 688, 'absolutely': 689, 'finished': 690, 'disappointed': 691, 'enjoyable': 692, 'spiritual': 693, 'herself': 694, 'describes': 695, 'addition': 696, 'dark': 697, 'previous': 698, 'informative': 699, 'head': 700, 'forward': 701, 'ability': 702, 'stop': 703, 'design': 704, 'market': 705, 'exactly': 706, 'eyes': 707, 'sort': 708, 'company': 709, 'seemed': 710, 'individual': 711, 'heard': 712, 'lots': 713, 'narrative': 714, 'film': 715, 'available': 716, 'saw': 717, 'late': 718, 'health': 719, 'final': 720, 'topic': 721, 'run': 722, 'control': 723, 'illustrations': 724, 'earth': 725, 'includes': 726, 'quickly': 727, 'lack': 728, 'pick': 729, 'places': 730, 'politics': 731, 'result': 732, 'literary': 733, 'star': 734, 'leave': 735, 'evidence': 736, 'somewhat': 737, 'western': 738, 'aspects': 739, 'happen': 740, 'quick': 741, 'price': 742, 'begins': 743, 'expect': 744, 'practice': 745, 'evil': 746, 'career': 747, 'meaning': 748, 'following': 749, 'due': 750, 'topics': 751, 'depth': 752, 'usually': 753, 'similar': 754, 'consider': 755, 'add': 756, 'contains': 757, 'law': 758, 'french': 759, 'brought': 760, 'sex': 761, 'ms.': 762, 'scientific': 763, 'special': 764, 'murder': 765, 'kept': 766, 'wonder': 767, 'education': 768, 'natural': 769, 'town': 770, 'david': 771, 'changed': 772, 'thus': 773, 'explain': 774, 'step': 775, 'guy': 776, 'teacher': 777, 'brings': 778, 'boring': 779, '...': 780, 'loves': 781, 'descriptions': 782, 'created': 783, 'key': 784, 'greatest': 785, 'successful': 786, 'discussion': 787, 'york': 788, 'support': 789, 'economic': 790, 'prose': 791, 'wait': 792, 'dog': 793, 'saying': 794, 'popular': 795, 'tried': 796, 'fall': 797, 'thoughts': 798, 'talk': 799, 'self': 800, 'lead': 801, 'familiar': 802, 'above': 803, 'description': 804, 'brilliant': 805, 'filled': 806, 'presents': 807, 'piece': 808, 'helps': 809, 'included': 810, 'message': 811, 'begin': 812, 'master': 813, 'fast': 814, 'community': 815, 'recently': 816, 'inside': 817, 'realize': 818, 'lived': 819, 'adventure': 820, 'professional': 821, 'notes': 822, 'source': 823, 'local': 824, 'situation': 825, 'turns': 826, 'nor': 827, 'effort': 828, 'de': 829, 'studies': 830, 'starts': 831, 'famous': 832, 'starting': 833, 'relationships': 834, 'unfortunately': 835, 'united': 836, 'marriage': 837, 'space': 838, 'color': 839, 'nearly': 840, 'fans': 841, 'mostly': 842, 'reviewers': 843, 'telling': 844, 'concept': 845, 'recent': 846, 'appreciate': 847, 'specific': 848, 'insights': 849, 'area': 850, 'include': 851, 'longer': 852, 'changes': 853, 'share': 854, 'figure': 855, 'earlier': 856, 'described': 857, 'british': 858, 'valuable': 859, 'moving': 860, 'training': 861, 'answer': 862, 'happens': 863, 'spent': 864, 'americans': 865, 'sound': 866, 'cultural': 867, 'issue': 868, 'turned': 869, 'towards': 870, 'named': 871, 'content': 872, 'voice': 873, 'note': 874, '10': 875, 'romance': 876, 'doubt': 877, 'soul': 878, 'context': 879, 'west': 880, 'reads': 881, 'fear': 882, 'management': 883, 'results': 884, 'whom': 885, 'thank': 886, 'huge': 887, 'battle': 888, 'fantastic': 889, 'teach': 890, 'brother': 891, 'photos': 892, 'necessary': 893, 'south': 894, 'program': 895, 'months': 896, 'continue': 897, 'likely': 898, 'actual': 899, 'ask': 900, 'reviewer': 901, 'teaching': 902, 'finding': 903, 'hear': 904, 'save': 905, 'ancient': 906, 'sad': 907, 'professor': 908, 'manner': 909, 'paul': 910, 'amount': 911, 'force': 912, 'attempt': 913, 'obvious': 914, 'europe': 915, 'essays': 916, 'talking': 917, 'decided': 918, 'building': 919, 'picked': 920, 'totally': 921, 'spirit': 922, 'hours': 923, 'worked': 924, 'resource': 925, 'positive': 926, 'land': 927, 'reasons': 928, 'move': 929, 'finish': 930, 'creative': 931, 'leaves': 932, 'gone': 933, 'moral': 934, 'robert': 935, 'suggest': 936, 'ends': 937, 'chance': 938, 'baby': 939, 'began': 940, 'compelling': 941, 'emotional': 942, 'george': 943, 'please': 944, 'exciting': 945, 'views': 946, 'behavior': 947, 'hero': 948, 'imagine': 949, 'act': 950, 'magic': 951, 'comprehensive': 952, 'biography': 953, 'mention': 954, 'looks': 955, 'stay': 956, 'eventually': 957, 'choice': 958, 'secret': 959, 'toward': 960, 'mentioned': 961, 'room': 962, 'purchased': 963, 'essential': 964, 'considered': 965, 'tips': 966, 'outside': 967, 'beauty': 968, 'answers': 969, 'obviously': 970, 'developed': 971, 'president': 972, 'amazon': 973, 'offer': 974, 'era': 975, 'feelings': 976, 'required': 977, 'scene': 978, 'girls': 979, 'wisdom': 980, 'older': 981, 'former': 982, 'party': 983, 'cause': 984, 'michael': 985, 'sections': 986, 'scenes': 987, 'christ': 988, 'hold': 989, 'respect': 990, 'return': 991, 'animals': 992, 'feels': 993, 'translation': 994, 'fully': 995, 'poetry': 996, 'none': 997, 'areas': 998, 'buying': 999, 'hands': 1000}\n"
     ]
    }
   ],
   "source": [
    "class Vocab:\n",
    "    def __init__(self, dataset, max_voc_size=1000, batch_size=1000):\n",
    "        ############# word-to-int mapping #############\n",
    "        self.dataset = dataset\n",
    "        self.max_voc_size = max_voc_size\n",
    "        freqs = Counter()\n",
    "        tokens = dataset.lower().split()\n",
    "        for token in tokens:\n",
    "            freqs[token] += 1\n",
    "        # freqs is dict(), i.e. freqs[word] = count\n",
    "        if len(freqs) > max_voc_size:\n",
    "            voc_size = max_voc_size\n",
    "        else:\n",
    "            voc_size = len(freqs)\n",
    "        freqs = freqs.most_common(voc_size)\n",
    "        # now freqs is tuple of (word, count)\n",
    "        mapping = {freqs[i][0]:i+1 for i in range(voc_size)}\n",
    "        # now freqs is dict of freqs[word]=r where r=rank based on frequency, r=(1,...)\n",
    "        self.mapping = mapping # should use self.mapping.get('key',-1) to try non-existent keys\n",
    "\n",
    "        \n",
    "        ############# batching #####################\n",
    "        split_dataset = dataset.split('\\n')\n",
    "        if len(split_dataset) > batch_size:\n",
    "            split_dataset = split_dataset[:batch_size]\n",
    "        else:\n",
    "            batch_size = len(split_dataset)\n",
    "\n",
    "        max_line_length = len(max(split_dataset, key=len))\n",
    "        batches = torch.ones(max_line_length, batch_size) * -1 # -1 is the padding\n",
    "        for line_idx in range(len(split_dataset)):\n",
    "            line = split_dataset[line_idx]\n",
    "            split_line = line.split()\n",
    "            for word_idx in range(len(split_line)):\n",
    "                batches[word_idx][line_idx] = mapping.get(split_line[word_idx], 0) # 0 is what words not in the mapping map to\n",
    "        self.batches = batches\n",
    "            \n",
    "        \n",
    "i = 0\n",
    "max_voc_size=1000\n",
    "batch_size=1000\n",
    "with open(base_dir+file_names[i], encoding=encodings[i]) as f:\n",
    "    dataset = f.read()\n",
    "    \n",
    "vc = Vocab(dataset, max_voc_size)\n",
    "print(vc.mapping)\n",
    "print(vc.batches)"
   ]
  },
  {
   "cell_type": "markdown",
   "id": "f0be700f-e7d1-4de0-8fc2-95a45c3736b0",
   "metadata": {},
   "source": [
    "### Trying out an NLP toolkit"
   ]
  },
  {
   "cell_type": "code",
   "execution_count": 211,
   "id": "2261b03e-ede3-4199-8dc0-7b3c84ebe445",
   "metadata": {},
   "outputs": [],
   "source": [
    "import spacy\n",
    "nlp = spacy.load('en_core_web_sm')\n",
    "# !python -m spacy download en"
   ]
  },
  {
   "cell_type": "markdown",
   "id": "e4fdd435-012d-4da4-81e3-063515620304",
   "metadata": {},
   "source": [
    "#### Processing a text"
   ]
  },
  {
   "cell_type": "code",
   "execution_count": 212,
   "id": "7f147f1f-798b-49d7-8c2a-e8972d42e788",
   "metadata": {},
   "outputs": [],
   "source": [
    "example = 'Apple bought two companies this year and no one knew, Mark Gurman at 9to5Mac reports.'\n",
    "result = nlp(example)"
   ]
  },
  {
   "cell_type": "code",
   "execution_count": 213,
   "id": "160ca7b3-6c05-49b9-b0bf-ff93e8f241d7",
   "metadata": {},
   "outputs": [
    {
     "data": {
      "text/html": [
       "<span class=\"tex2jax_ignore\"><div class=\"entities\" style=\"line-height: 2.5; direction: ltr\">\n",
       "<mark class=\"entity\" style=\"background: #7aecec; padding: 0.45em 0.6em; margin: 0 0.25em; line-height: 1; border-radius: 0.35em;\">\n",
       "    Apple\n",
       "    <span style=\"font-size: 0.8em; font-weight: bold; line-height: 1; border-radius: 0.35em; vertical-align: middle; margin-left: 0.5rem\">ORG</span>\n",
       "</mark>\n",
       " bought \n",
       "<mark class=\"entity\" style=\"background: #e4e7d2; padding: 0.45em 0.6em; margin: 0 0.25em; line-height: 1; border-radius: 0.35em;\">\n",
       "    two\n",
       "    <span style=\"font-size: 0.8em; font-weight: bold; line-height: 1; border-radius: 0.35em; vertical-align: middle; margin-left: 0.5rem\">CARDINAL</span>\n",
       "</mark>\n",
       " companies \n",
       "<mark class=\"entity\" style=\"background: #bfe1d9; padding: 0.45em 0.6em; margin: 0 0.25em; line-height: 1; border-radius: 0.35em;\">\n",
       "    this year\n",
       "    <span style=\"font-size: 0.8em; font-weight: bold; line-height: 1; border-radius: 0.35em; vertical-align: middle; margin-left: 0.5rem\">DATE</span>\n",
       "</mark>\n",
       " and no one knew, \n",
       "<mark class=\"entity\" style=\"background: #aa9cfc; padding: 0.45em 0.6em; margin: 0 0.25em; line-height: 1; border-radius: 0.35em;\">\n",
       "    Mark Gurman\n",
       "    <span style=\"font-size: 0.8em; font-weight: bold; line-height: 1; border-radius: 0.35em; vertical-align: middle; margin-left: 0.5rem\">PERSON</span>\n",
       "</mark>\n",
       " at \n",
       "<mark class=\"entity\" style=\"background: #e4e7d2; padding: 0.45em 0.6em; margin: 0 0.25em; line-height: 1; border-radius: 0.35em;\">\n",
       "    9to5Mac\n",
       "    <span style=\"font-size: 0.8em; font-weight: bold; line-height: 1; border-radius: 0.35em; vertical-align: middle; margin-left: 0.5rem\">CARDINAL</span>\n",
       "</mark>\n",
       " reports.</div></span>"
      ],
      "text/plain": [
       "<IPython.core.display.HTML object>"
      ]
     },
     "metadata": {},
     "output_type": "display_data"
    }
   ],
   "source": [
    "from spacy import displacy\n",
    "displacy.render(result, style='ent', jupyter=True)\n",
    "# displacy.render(result, style='dep', jupyter=True)"
   ]
  },
  {
   "cell_type": "code",
   "execution_count": 225,
   "id": "0f649af6-9f85-4f54-bc7f-640368348a31",
   "metadata": {},
   "outputs": [
    {
     "name": "stdout",
     "output_type": "stream",
     "text": [
      "Text: Apple\tPoS: PROPN\tLemma: Apple\tHead: bought\tDep: nsubj\n",
      "Text: bought\tPoS: VERB\tLemma: buy\tHead: bought\tDep: ROOT\n",
      "Text: two\tPoS: NUM\tLemma: two\tHead: companies\tDep: nummod\n",
      "Text: companies\tPoS: NOUN\tLemma: company\tHead: bought\tDep: dobj\n",
      "Text: this\tPoS: DET\tLemma: this\tHead: year\tDep: det\n",
      "Text: year\tPoS: NOUN\tLemma: year\tHead: bought\tDep: npadvmod\n",
      "Text: and\tPoS: CCONJ\tLemma: and\tHead: bought\tDep: cc\n",
      "Text: no\tPoS: DET\tLemma: no\tHead: one\tDep: det\n",
      "Text: one\tPoS: NOUN\tLemma: one\tHead: knew\tDep: nsubj\n",
      "Text: knew\tPoS: VERB\tLemma: know\tHead: bought\tDep: conj\n",
      "Text: ,\tPoS: PUNCT\tLemma: ,\tHead: knew\tDep: punct\n",
      "Text: Mark\tPoS: PROPN\tLemma: Mark\tHead: Gurman\tDep: compound\n",
      "Text: Gurman\tPoS: PROPN\tLemma: Gurman\tHead: bought\tDep: dobj\n",
      "Text: at\tPoS: ADP\tLemma: at\tHead: bought\tDep: prep\n",
      "Text: 9to5Mac\tPoS: NUM\tLemma: 9to5mac\tHead: reports\tDep: nummod\n",
      "Text: reports\tPoS: NOUN\tLemma: report\tHead: at\tDep: pobj\n",
      "Text: .\tPoS: PUNCT\tLemma: .\tHead: bought\tDep: punct\n",
      "----------\n",
      "Apple\n",
      "two\n",
      "this year\n",
      "Mark Gurman\n",
      "9to5Mac\n"
     ]
    }
   ],
   "source": [
    "for token in result:\n",
    "    print('Text: ' + token.text + \n",
    "          '\\tPoS: ' + token.pos_ + \n",
    "          '\\tLemma: ' + token.lemma_ + \n",
    "          '\\tHead: ' + str(token.head) + \n",
    "          '\\tDep: ' + str(token.dep_))\n",
    "    \n",
    "print('----------')\n",
    "for entity in result.ents:\n",
    "    print(entity)"
   ]
  },
  {
   "cell_type": "markdown",
   "id": "e270335a-0362-4e60-bdc4-03c42419cab8",
   "metadata": {},
   "source": [
    "Obviously, \"two\" is not a named entity. \n",
    "It got it right that \"one\" in this case is a noun, not a number while \"two\" is a number. However \"9to5Mac\" is not a number. Also, \"reports\" is a verb not a noun."
   ]
  },
  {
   "cell_type": "markdown",
   "id": "09a53f5a-1304-447a-911f-4a1f35cedb23",
   "metadata": {},
   "source": [
    "### Additional questions\n"
   ]
  },
  {
   "cell_type": "code",
   "execution_count": 226,
   "id": "42021944-4705-40f3-bcb5-5c1a710a59a1",
   "metadata": {},
   "outputs": [],
   "source": [
    "corpora = {}\n",
    "for i in range(len(file_names)):\n",
    "    with open(base_dir+file_names[i],encoding=encodings[i]) as f:\n",
    "        corpora[file_names[i]] = f.read()"
   ]
  },
  {
   "cell_type": "markdown",
   "id": "88e9b664-a589-492c-bcf0-ef628b982fe9",
   "metadata": {},
   "source": [
    "#### Which are the most frequent nouns in the book review corpus?"
   ]
  },
  {
   "cell_type": "code",
   "execution_count": 242,
   "id": "7a1705c7-3d78-4f5f-a288-d8b6a3bd3b6e",
   "metadata": {},
   "outputs": [
    {
     "name": "stdout",
     "output_type": "stream",
     "text": [
      "[('book', 1951), ('time', 303), ('story', 301), ('life', 288), ('books', 267), ('people', 250), ('world', 216), ('way', 204), ('author', 169), ('years', 167)]\n"
     ]
    }
   ],
   "source": [
    "num_lines = 1000\n",
    "nouns = Counter()\n",
    "for line in corpora['books.txt'].split('\\n')[:num_lines]:\n",
    "    result = nlp(line)\n",
    "    for token in result:\n",
    "        if token.pos_ == 'NOUN':\n",
    "            nouns[token.text] += 1\n",
    "print(nouns.most_common(10))"
   ]
  },
  {
   "cell_type": "markdown",
   "id": "dee96075-f88c-4597-a58f-d7e8426a7e4c",
   "metadata": {},
   "source": [
    "#### Which are the most frequently mentioned countries in the Wikipedia corpus?\n",
    "SpaCy tags entities as GPE (GeoPolitical Entity?) if they are countries, states, cities, provinces, etc.\n",
    "We could use *geonamescache* to validate if a token is actually a country, but I don't think that's what they really want us to do"
   ]
  },
  {
   "cell_type": "code",
   "execution_count": 253,
   "id": "fcbb5bd4-b8f0-4b6f-b163-7e6b251dbbb1",
   "metadata": {},
   "outputs": [
    {
     "name": "stdout",
     "output_type": "stream",
     "text": [
      "[('the United States', 9), ('France', 6), ('Washington', 6), ('England', 5), ('China', 5), ('Pakistan', 5), ('Russia', 4), ('U.S.', 4), ('California', 4), ('Ireland', 4)]\n"
     ]
    }
   ],
   "source": [
    "num_lines = 1000\n",
    "countries = Counter()\n",
    "for line in corpora['wikipedia.txt'].split('\\n')[:num_lines]:\n",
    "    result = nlp(line)\n",
    "    for entity in result.ents:\n",
    "        if entity.label_ == 'GPE':\n",
    "            countries[entity.text] += 1\n",
    "print(countries.most_common(10))"
   ]
  },
  {
   "cell_type": "markdown",
   "id": "27ae4541-6fe1-4b1a-949e-b3e8c2926068",
   "metadata": {},
   "source": [
    "#### What are the items that people drink most frequently in the European Parliament corpus?\n",
    "To count this, we look at words with POS=noun, HEAD = inflection of drink, and DEPENDENCY = \"dobj\""
   ]
  },
  {
   "cell_type": "code",
   "execution_count": 313,
   "id": "ae843c24-9b7a-483e-8e9d-9312f804d436",
   "metadata": {
    "tags": []
   },
   "outputs": [
    {
     "name": "stdout",
     "output_type": "stream",
     "text": [
      "[('water', 41), ('milk', 24), ('alcohol', 22), ('wine', 16), ('beer', 8), ('driving', 7), ('services', 4), ('glass', 4), ('tea', 3), ('advertising', 2)]\n"
     ]
    }
   ],
   "source": [
    "inflected_forms = ['drink','drank','drunk','drinking','drinks','Drink','Drank','Drunk','Drinking','Drinks']\n",
    "drinks = Counter()\n",
    "for line in corpora['europarl.txt'].split('\\n'):\n",
    "    for inflected_form in inflected_forms:\n",
    "        if inflected_form in line:\n",
    "            result = nlp(line)\n",
    "            for token in result:\n",
    "                if token.pos_=='NOUN' and \\\n",
    "                    str(token.head) == inflected_form and \\\n",
    "                    token.dep_ == 'dobj' and \\\n",
    "                    token.text != inflected_form:\n",
    "                    drinks[token.text] += 1\n",
    "print(drinks.most_common(10))"
   ]
  }
 ],
 "metadata": {
  "kernelspec": {
   "display_name": "Python 3 (ipykernel)",
   "language": "python",
   "name": "python3"
  },
  "language_info": {
   "codemirror_mode": {
    "name": "ipython",
    "version": 3
   },
   "file_extension": ".py",
   "mimetype": "text/x-python",
   "name": "python",
   "nbconvert_exporter": "python",
   "pygments_lexer": "ipython3",
   "version": "3.7.11"
  }
 },
 "nbformat": 4,
 "nbformat_minor": 5
}
